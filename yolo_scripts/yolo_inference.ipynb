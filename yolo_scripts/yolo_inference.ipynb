{
 "cells": [
  {
   "cell_type": "markdown",
   "metadata": {},
   "source": [
    "# Setup"
   ]
  },
  {
   "cell_type": "code",
   "execution_count": 3,
   "metadata": {},
   "outputs": [
    {
     "name": "stdout",
     "output_type": "stream",
     "text": [
      "/home/sara/Desktop/Master-thesis/master_thesis\n",
      "Checking setup...\n"
     ]
    },
    {
     "ename": "ModuleNotFoundError",
     "evalue": "No module named 'utils'",
     "output_type": "error",
     "traceback": [
      "\u001b[0;31m---------------------------------------------------------------------------\u001b[0m",
      "\u001b[0;31mModuleNotFoundError\u001b[0m                       Traceback (most recent call last)",
      "\u001b[0;32m<ipython-input-3-55a826bd1688>\u001b[0m in \u001b[0;36m<module>\u001b[0;34m\u001b[0m\n\u001b[1;32m      5\u001b[0m \u001b[0;32mimport\u001b[0m \u001b[0mtorch\u001b[0m\u001b[0;34m\u001b[0m\u001b[0;34m\u001b[0m\u001b[0m\n\u001b[1;32m      6\u001b[0m \u001b[0;32mfrom\u001b[0m \u001b[0myolov5\u001b[0m \u001b[0;32mimport\u001b[0m \u001b[0mutils\u001b[0m\u001b[0;34m\u001b[0m\u001b[0;34m\u001b[0m\u001b[0m\n\u001b[0;32m----> 7\u001b[0;31m \u001b[0mdisplay\u001b[0m \u001b[0;34m=\u001b[0m \u001b[0mutils\u001b[0m\u001b[0;34m.\u001b[0m\u001b[0mnotebook_init\u001b[0m\u001b[0;34m(\u001b[0m\u001b[0;34m)\u001b[0m  \u001b[0;31m# checks\u001b[0m\u001b[0;34m\u001b[0m\u001b[0;34m\u001b[0m\u001b[0m\n\u001b[0m",
      "\u001b[0;32m~/Desktop/Master-thesis/master_thesis/yolov5/utils/__init__.py\u001b[0m in \u001b[0;36mnotebook_init\u001b[0;34m(verbose)\u001b[0m\n\u001b[1;32m     12\u001b[0m     \u001b[0;32mimport\u001b[0m \u001b[0mshutil\u001b[0m\u001b[0;34m\u001b[0m\u001b[0;34m\u001b[0m\u001b[0m\n\u001b[1;32m     13\u001b[0m \u001b[0;34m\u001b[0m\u001b[0m\n\u001b[0;32m---> 14\u001b[0;31m     \u001b[0;32mfrom\u001b[0m \u001b[0mutils\u001b[0m\u001b[0;34m.\u001b[0m\u001b[0mgeneral\u001b[0m \u001b[0;32mimport\u001b[0m \u001b[0mcheck_requirements\u001b[0m\u001b[0;34m,\u001b[0m \u001b[0memojis\u001b[0m\u001b[0;34m,\u001b[0m \u001b[0mis_colab\u001b[0m\u001b[0;34m\u001b[0m\u001b[0;34m\u001b[0m\u001b[0m\n\u001b[0m\u001b[1;32m     15\u001b[0m     \u001b[0;32mfrom\u001b[0m \u001b[0mutils\u001b[0m\u001b[0;34m.\u001b[0m\u001b[0mtorch_utils\u001b[0m \u001b[0;32mimport\u001b[0m \u001b[0mselect_device\u001b[0m  \u001b[0;31m# imports\u001b[0m\u001b[0;34m\u001b[0m\u001b[0;34m\u001b[0m\u001b[0m\n\u001b[1;32m     16\u001b[0m \u001b[0;34m\u001b[0m\u001b[0m\n",
      "\u001b[0;31mModuleNotFoundError\u001b[0m: No module named 'utils'"
     ]
    }
   ],
   "source": [
    "#!git clone https://github.com/ultralytics/yolov5  # clone\n",
    "%cd /home/sara/Desktop/Master-thesis/master_thesis/\n",
    "#%conda install --file requirements.txt  # install\n",
    "\n",
    "import torch\n",
    "from yolov5 import utils\n",
    "display = utils.notebook_init()  # checks"
   ]
  },
  {
   "cell_type": "markdown",
   "metadata": {},
   "source": [
    "# Inference"
   ]
  },
  {
   "cell_type": "code",
   "execution_count": 4,
   "metadata": {},
   "outputs": [
    {
     "name": "stderr",
     "output_type": "stream",
     "text": [
      "Using cache found in /home/sara/.cache/torch/hub/ultralytics_yolov5_master\n",
      "YOLOv5 🚀 2022-2-14 torch 1.7.0 CPU\n",
      "\n",
      "Fusing layers... \n",
      "Model Summary: 213 layers, 1867405 parameters, 0 gradients\n",
      "Adding AutoShape... \n",
      "Saved 1 image to \u001b[1m/home/sara/Desktop/Master-thesis/master_thesis/Dataset/yolo_results/untrained_weights\u001b[0m\n"
     ]
    }
   ],
   "source": [
    "# Model\n",
    "model = torch.hub.load('ultralytics/yolov5', 'yolov5n')  # or yolov5m, yolov5l, yolov5x, custom\n",
    "\n",
    "# Images\n",
    "img = '/home/sara/Desktop/Master-thesis/master_thesis/Dataset/images_one/0a0df8299.jpg'  # or file, Path, PIL, OpenCV, numpy, list\n",
    "\n",
    "# Inference\n",
    "results = model(img)\n",
    "\n",
    "# Results\n",
    "torch.save(model, \"/home/sara/Desktop/Master-thesis/master_thesis/Dataset/yolov5n.pt\")\n",
    "results.save(\"/home/sara/Desktop/Master-thesis/master_thesis/Dataset/yolo_results/untrained_weights/\")  # or .show(), .save(), .crop(), .pandas(), etc."
   ]
  },
  {
   "cell_type": "markdown",
   "metadata": {},
   "source": [
    "### Arguments"
   ]
  },
  {
   "cell_type": "code",
   "execution_count": 11,
   "metadata": {},
   "outputs": [
    {
     "name": "stdout",
     "output_type": "stream",
     "text": [
      "/home/sara/Desktop/Master-thesis/master_thesis\n",
      "usage: detect.py [-h] [--weights WEIGHTS [WEIGHTS ...]] [--source SOURCE]\n",
      "                 [--data DATA] [--imgsz IMGSZ [IMGSZ ...]]\n",
      "                 [--conf-thres CONF_THRES] [--iou-thres IOU_THRES]\n",
      "                 [--max-det MAX_DET] [--device DEVICE] [--view-img]\n",
      "                 [--save-txt] [--save-conf] [--save-crop] [--nosave]\n",
      "                 [--classes CLASSES [CLASSES ...]] [--agnostic-nms]\n",
      "                 [--augment] [--visualize] [--update] [--project PROJECT]\n",
      "                 [--name NAME] [--exist-ok] [--line-thickness LINE_THICKNESS]\n",
      "                 [--hide-labels] [--hide-conf] [--half] [--dnn]\n",
      "\n",
      "optional arguments:\n",
      "  -h, --help            show this help message and exit\n",
      "  --weights WEIGHTS [WEIGHTS ...]\n",
      "                        model path(s)\n",
      "  --source SOURCE       file/dir/URL/glob, 0 for webcam\n",
      "  --data DATA           (optional) dataset.yaml path\n",
      "  --imgsz IMGSZ [IMGSZ ...], --img IMGSZ [IMGSZ ...], --img-size IMGSZ [IMGSZ ...]\n",
      "                        inference size h,w\n",
      "  --conf-thres CONF_THRES\n",
      "                        confidence threshold\n",
      "  --iou-thres IOU_THRES\n",
      "                        NMS IoU threshold\n",
      "  --max-det MAX_DET     maximum detections per image\n",
      "  --device DEVICE       cuda device, i.e. 0 or 0,1,2,3 or cpu\n",
      "  --view-img            show results\n",
      "  --save-txt            save results to *.txt\n",
      "  --save-conf           save confidences in --save-txt labels\n",
      "  --save-crop           save cropped prediction boxes\n",
      "  --nosave              do not save images/videos\n",
      "  --classes CLASSES [CLASSES ...]\n",
      "                        filter by class: --classes 0, or --classes 0 2 3\n",
      "  --agnostic-nms        class-agnostic NMS\n",
      "  --augment             augmented inference\n",
      "  --visualize           visualize features\n",
      "  --update              update all models\n",
      "  --project PROJECT     save results to project/name\n",
      "  --name NAME           save results to project/name\n",
      "  --exist-ok            existing project/name ok, do not increment\n",
      "  --line-thickness LINE_THICKNESS\n",
      "                        bounding box thickness (pixels)\n",
      "  --hide-labels         hide labels\n",
      "  --hide-conf           hide confidences\n",
      "  --half                use FP16 half-precision inference\n",
      "  --dnn                 use OpenCV DNN for ONNX inference\n"
     ]
    }
   ],
   "source": [
    "%cd /home/sara/Desktop/Master-thesis/master_thesis/\n",
    "!python yolov5/detect.py -h"
   ]
  },
  {
   "cell_type": "markdown",
   "metadata": {},
   "source": [
    "### Inference"
   ]
  },
  {
   "cell_type": "code",
   "execution_count": 13,
   "metadata": {},
   "outputs": [
    {
     "name": "stdout",
     "output_type": "stream",
     "text": [
      "/home/sara/Desktop/Master-thesis/master_thesis\n",
      "\u001b[34m\u001b[1mdetect: \u001b[0mweights=['Dataset/yolov5n.pt'], source=Dataset/images, data=yolov5/data/coco128.yaml, imgsz=[768, 768], conf_thres=0.25, iou_thres=0.45, max_det=1000, device=, view_img=False, save_txt=False, save_conf=False, save_crop=False, nosave=False, classes=None, agnostic_nms=False, augment=False, visualize=False, update=False, project=Dataset/yolo_results/untrained_weights, name=exp, exist_ok=False, line_thickness=3, hide_labels=False, hide_conf=False, half=False, dnn=False\n",
      "YOLOv5 🚀 e91a4d9 torch 1.7.0 CPU\n",
      "\n",
      "Downloading https://github.com/ultralytics/yolov5/releases/download/v6.0/yolov5n.pt to Dataset/yolov5n.pt...\n",
      "100%|██████████████████████████████████████| 3.77M/3.77M [00:00<00:00, 14.5MB/s]\n",
      "\n",
      "Fusing layers... \n",
      "Model Summary: 213 layers, 1867405 parameters, 0 gradients\n",
      "image 1/100 /home/sara/Desktop/Master-thesis/master_thesis/Dataset/images/fdbf2b2ac.jpg: 768x768 Done. (0.169s)\n",
      "image 2/100 /home/sara/Desktop/Master-thesis/master_thesis/Dataset/images/fdbfc9069.jpg: 768x768 Done. (0.140s)\n",
      "image 3/100 /home/sara/Desktop/Master-thesis/master_thesis/Dataset/images/fdc064766.jpg: 768x768 Done. (0.135s)\n",
      "image 4/100 /home/sara/Desktop/Master-thesis/master_thesis/Dataset/images/fdc09c30b.jpg: 768x768 Done. (0.152s)\n",
      "image 5/100 /home/sara/Desktop/Master-thesis/master_thesis/Dataset/images/fdc0add09.jpg: 768x768 Done. (0.144s)\n",
      "image 6/100 /home/sara/Desktop/Master-thesis/master_thesis/Dataset/images/fdc1b12c0.jpg: 768x768 Done. (0.300s)\n",
      "image 7/100 /home/sara/Desktop/Master-thesis/master_thesis/Dataset/images/fdc23da57.jpg: 768x768 Done. (0.172s)\n",
      "image 8/100 /home/sara/Desktop/Master-thesis/master_thesis/Dataset/images/fdc25b63d.jpg: 768x768 Done. (0.134s)\n",
      "image 9/100 /home/sara/Desktop/Master-thesis/master_thesis/Dataset/images/fdc27ca30.jpg: 768x768 Done. (0.128s)\n",
      "image 10/100 /home/sara/Desktop/Master-thesis/master_thesis/Dataset/images/fdc2b17e8.jpg: 768x768 Done. (0.118s)\n",
      "image 11/100 /home/sara/Desktop/Master-thesis/master_thesis/Dataset/images/fdc2ee532.jpg: 768x768 Done. (0.114s)\n",
      "image 12/100 /home/sara/Desktop/Master-thesis/master_thesis/Dataset/images/fdc34fff1.jpg: 768x768 Done. (0.105s)\n",
      "image 13/100 /home/sara/Desktop/Master-thesis/master_thesis/Dataset/images/fdc3927fd.jpg: 768x768 Done. (0.120s)\n",
      "image 14/100 /home/sara/Desktop/Master-thesis/master_thesis/Dataset/images/fdc397dcf.jpg: 768x768 Done. (0.109s)\n",
      "image 15/100 /home/sara/Desktop/Master-thesis/master_thesis/Dataset/images/fdc3d0c7e.jpg: 768x768 Done. (0.111s)\n",
      "image 16/100 /home/sara/Desktop/Master-thesis/master_thesis/Dataset/images/fdc4a56b4.jpg: 768x768 Done. (0.121s)\n",
      "image 17/100 /home/sara/Desktop/Master-thesis/master_thesis/Dataset/images/fdc4b0c62.jpg: 768x768 Done. (0.114s)\n",
      "image 18/100 /home/sara/Desktop/Master-thesis/master_thesis/Dataset/images/fdc4cb802.jpg: 768x768 Done. (0.116s)\n",
      "image 19/100 /home/sara/Desktop/Master-thesis/master_thesis/Dataset/images/fdc4cf1f0.jpg: 768x768 Done. (0.115s)\n",
      "image 20/100 /home/sara/Desktop/Master-thesis/master_thesis/Dataset/images/fdc55b8a4.jpg: 768x768 Done. (0.117s)\n",
      "image 21/100 /home/sara/Desktop/Master-thesis/master_thesis/Dataset/images/fdc60018e.jpg: 768x768 Done. (0.122s)\n",
      "image 22/100 /home/sara/Desktop/Master-thesis/master_thesis/Dataset/images/fdc681a61.jpg: 768x768 Done. (0.105s)\n",
      "image 23/100 /home/sara/Desktop/Master-thesis/master_thesis/Dataset/images/fdc768bca.jpg: 768x768 Done. (0.104s)\n",
      "image 24/100 /home/sara/Desktop/Master-thesis/master_thesis/Dataset/images/fdc773c96.jpg: 768x768 Done. (0.114s)\n",
      "image 25/100 /home/sara/Desktop/Master-thesis/master_thesis/Dataset/images/fdc7cce80.jpg: 768x768 Done. (0.101s)\n",
      "image 26/100 /home/sara/Desktop/Master-thesis/master_thesis/Dataset/images/fdc7fccc9.jpg: 768x768 Done. (0.129s)\n",
      "image 27/100 /home/sara/Desktop/Master-thesis/master_thesis/Dataset/images/fdc861581.jpg: 768x768 1 airplane, 1 kite, Done. (0.161s)\n",
      "image 28/100 /home/sara/Desktop/Master-thesis/master_thesis/Dataset/images/fdc89a98a.jpg: 768x768 Done. (0.126s)\n",
      "image 29/100 /home/sara/Desktop/Master-thesis/master_thesis/Dataset/images/fdc8e2283.jpg: 768x768 Done. (0.117s)\n",
      "image 30/100 /home/sara/Desktop/Master-thesis/master_thesis/Dataset/images/fdc9123e0.jpg: 768x768 Done. (0.131s)\n",
      "image 31/100 /home/sara/Desktop/Master-thesis/master_thesis/Dataset/images/fdc913c2b.jpg: 768x768 Done. (0.120s)\n",
      "image 32/100 /home/sara/Desktop/Master-thesis/master_thesis/Dataset/images/fdc943193.jpg: 768x768 Done. (0.169s)\n",
      "image 33/100 /home/sara/Desktop/Master-thesis/master_thesis/Dataset/images/fdc9706de.jpg: 768x768 Done. (0.128s)\n",
      "image 34/100 /home/sara/Desktop/Master-thesis/master_thesis/Dataset/images/fdc9e9d2f.jpg: 768x768 Done. (0.111s)\n",
      "image 35/100 /home/sara/Desktop/Master-thesis/master_thesis/Dataset/images/fdca29d51.jpg: 768x768 1 kite, Done. (0.118s)\n",
      "image 36/100 /home/sara/Desktop/Master-thesis/master_thesis/Dataset/images/fdca4c2d2.jpg: 768x768 Done. (0.108s)\n",
      "image 37/100 /home/sara/Desktop/Master-thesis/master_thesis/Dataset/images/fdca53dc2.jpg: 768x768 1 broccoli, Done. (0.101s)\n",
      "image 38/100 /home/sara/Desktop/Master-thesis/master_thesis/Dataset/images/fdcb36618.jpg: 768x768 Done. (0.109s)\n",
      "image 39/100 /home/sara/Desktop/Master-thesis/master_thesis/Dataset/images/fdcb5714c.jpg: 768x768 Done. (0.103s)\n",
      "image 40/100 /home/sara/Desktop/Master-thesis/master_thesis/Dataset/images/fdcb595f5.jpg: 768x768 Done. (0.106s)\n",
      "image 41/100 /home/sara/Desktop/Master-thesis/master_thesis/Dataset/images/fdcb83231.jpg: 768x768 Done. (0.096s)\n",
      "image 42/100 /home/sara/Desktop/Master-thesis/master_thesis/Dataset/images/fdcb903c9.jpg: 768x768 Done. (0.097s)\n",
      "image 43/100 /home/sara/Desktop/Master-thesis/master_thesis/Dataset/images/fdcbcc704.jpg: 768x768 Done. (0.093s)\n",
      "image 44/100 /home/sara/Desktop/Master-thesis/master_thesis/Dataset/images/fdcbcf80d.jpg: 768x768 Done. (0.104s)\n",
      "image 45/100 /home/sara/Desktop/Master-thesis/master_thesis/Dataset/images/fdcc1bec1.jpg: 768x768 Done. (0.098s)\n",
      "image 46/100 /home/sara/Desktop/Master-thesis/master_thesis/Dataset/images/fdcc9740f.jpg: 768x768 Done. (0.097s)\n",
      "image 47/100 /home/sara/Desktop/Master-thesis/master_thesis/Dataset/images/fdccb6a6d.jpg: 768x768 Done. (0.097s)\n",
      "image 48/100 /home/sara/Desktop/Master-thesis/master_thesis/Dataset/images/fdcd0ea3d.jpg: 768x768 Done. (0.100s)\n",
      "image 49/100 /home/sara/Desktop/Master-thesis/master_thesis/Dataset/images/fdcd81de2.jpg: 768x768 Done. (0.117s)\n",
      "image 50/100 /home/sara/Desktop/Master-thesis/master_thesis/Dataset/images/fdcd835ec.jpg: 768x768 1 baseball bat, 1 tennis racket, Done. (0.095s)\n",
      "image 51/100 /home/sara/Desktop/Master-thesis/master_thesis/Dataset/images/fdcec4b9e.jpg: 768x768 Done. (0.094s)\n",
      "image 52/100 /home/sara/Desktop/Master-thesis/master_thesis/Dataset/images/fdcec76fc.jpg: 768x768 Done. (0.093s)\n",
      "image 53/100 /home/sara/Desktop/Master-thesis/master_thesis/Dataset/images/fdcfae835.jpg: 768x768 1 broccoli, Done. (0.105s)\n",
      "image 54/100 /home/sara/Desktop/Master-thesis/master_thesis/Dataset/images/fdcfafdcb.jpg: 768x768 Done. (0.105s)\n",
      "image 55/100 /home/sara/Desktop/Master-thesis/master_thesis/Dataset/images/fdcfb2ea1.jpg: 768x768 Done. (0.096s)\n",
      "image 56/100 /home/sara/Desktop/Master-thesis/master_thesis/Dataset/images/fdd0268c0.jpg: 768x768 Done. (0.097s)\n",
      "image 57/100 /home/sara/Desktop/Master-thesis/master_thesis/Dataset/images/fdd0d35c1.jpg: 768x768 Done. (0.098s)\n",
      "image 58/100 /home/sara/Desktop/Master-thesis/master_thesis/Dataset/images/fdd1be404.jpg: 768x768 Done. (0.098s)\n",
      "image 59/100 /home/sara/Desktop/Master-thesis/master_thesis/Dataset/images/fdd21dcae.jpg: 768x768 Done. (0.117s)\n",
      "image 60/100 /home/sara/Desktop/Master-thesis/master_thesis/Dataset/images/fdd2daa15.jpg: 768x768 Done. (0.099s)\n",
      "image 61/100 /home/sara/Desktop/Master-thesis/master_thesis/Dataset/images/fdd2e698d.jpg: 768x768 Done. (0.102s)\n",
      "image 62/100 /home/sara/Desktop/Master-thesis/master_thesis/Dataset/images/fdd2ef51e.jpg: 768x768 Done. (0.096s)\n",
      "image 63/100 /home/sara/Desktop/Master-thesis/master_thesis/Dataset/images/fdd31eaa0.jpg: 768x768 Done. (0.222s)\n",
      "image 64/100 /home/sara/Desktop/Master-thesis/master_thesis/Dataset/images/fdd327b53.jpg: 768x768 1 person, Done. (0.108s)\n",
      "image 65/100 /home/sara/Desktop/Master-thesis/master_thesis/Dataset/images/fdd41d91c.jpg: 768x768 Done. (0.091s)\n",
      "image 66/100 /home/sara/Desktop/Master-thesis/master_thesis/Dataset/images/fdd4706f9.jpg: 768x768 Done. (0.096s)\n",
      "image 67/100 /home/sara/Desktop/Master-thesis/master_thesis/Dataset/images/fdd4ce4de.jpg: 768x768 Done. (0.098s)\n",
      "image 68/100 /home/sara/Desktop/Master-thesis/master_thesis/Dataset/images/fdd4d3e93.jpg: 768x768 Done. (0.094s)\n",
      "image 69/100 /home/sara/Desktop/Master-thesis/master_thesis/Dataset/images/fdd531a7b.jpg: 768x768 Done. (0.111s)\n",
      "image 70/100 /home/sara/Desktop/Master-thesis/master_thesis/Dataset/images/fdd56d29c.jpg: 768x768 1 broccoli, 1 carrot, Done. (0.102s)\n",
      "image 71/100 /home/sara/Desktop/Master-thesis/master_thesis/Dataset/images/fdd5fafdb.jpg: 768x768 1 broccoli, Done. (0.102s)\n",
      "image 72/100 /home/sara/Desktop/Master-thesis/master_thesis/Dataset/images/fdd7231f7.jpg: 768x768 Done. (0.095s)\n",
      "image 73/100 /home/sara/Desktop/Master-thesis/master_thesis/Dataset/images/fdd77e01c.jpg: 768x768 Done. (0.094s)\n",
      "image 74/100 /home/sara/Desktop/Master-thesis/master_thesis/Dataset/images/fdd7888eb.jpg: 768x768 Done. (0.102s)\n",
      "image 75/100 /home/sara/Desktop/Master-thesis/master_thesis/Dataset/images/fdd7b632e.jpg: 768x768 Done. (0.098s)\n",
      "image 76/100 /home/sara/Desktop/Master-thesis/master_thesis/Dataset/images/fdd84ff77.jpg: 768x768 Done. (0.098s)\n",
      "image 77/100 /home/sara/Desktop/Master-thesis/master_thesis/Dataset/images/fdd866b18.jpg: 768x768 Done. (0.099s)\n",
      "image 78/100 /home/sara/Desktop/Master-thesis/master_thesis/Dataset/images/fdd95dc56.jpg: 768x768 Done. (0.110s)\n",
      "image 79/100 /home/sara/Desktop/Master-thesis/master_thesis/Dataset/images/fdda6f445.jpg: 768x768 Done. (0.117s)\n",
      "image 80/100 /home/sara/Desktop/Master-thesis/master_thesis/Dataset/images/fddb43c05.jpg: 768x768 Done. (0.096s)\n",
      "image 81/100 /home/sara/Desktop/Master-thesis/master_thesis/Dataset/images/fddb56648.jpg: 768x768 Done. (0.095s)\n",
      "image 82/100 /home/sara/Desktop/Master-thesis/master_thesis/Dataset/images/fddd2b7a9.jpg: 768x768 Done. (0.097s)\n",
      "image 83/100 /home/sara/Desktop/Master-thesis/master_thesis/Dataset/images/fddd31d80.jpg: 768x768 Done. (0.099s)\n",
      "image 84/100 /home/sara/Desktop/Master-thesis/master_thesis/Dataset/images/fddd7ab11.jpg: 768x768 Done. (0.119s)\n",
      "image 85/100 /home/sara/Desktop/Master-thesis/master_thesis/Dataset/images/fdde69112.jpg: 768x768 Done. (0.103s)\n",
      "image 86/100 /home/sara/Desktop/Master-thesis/master_thesis/Dataset/images/fddeb20e7.jpg: 768x768 Done. (0.099s)\n",
      "image 87/100 /home/sara/Desktop/Master-thesis/master_thesis/Dataset/images/fddefaa7b.jpg: 768x768 Done. (0.097s)\n",
      "image 88/100 /home/sara/Desktop/Master-thesis/master_thesis/Dataset/images/fddf65b33.jpg: 768x768 Done. (0.104s)\n",
      "image 89/100 /home/sara/Desktop/Master-thesis/master_thesis/Dataset/images/fddff599c.jpg: 768x768 Done. (0.104s)\n",
      "image 90/100 /home/sara/Desktop/Master-thesis/master_thesis/Dataset/images/fde00e522.jpg: 768x768 Done. (0.103s)\n",
      "image 91/100 /home/sara/Desktop/Master-thesis/master_thesis/Dataset/images/fde01b22c.jpg: 768x768 Done. (0.094s)\n",
      "image 92/100 /home/sara/Desktop/Master-thesis/master_thesis/Dataset/images/fde1ef107.jpg: 768x768 Done. (0.093s)\n",
      "image 93/100 /home/sara/Desktop/Master-thesis/master_thesis/Dataset/images/fde1f42c9.jpg: 768x768 Done. (0.102s)\n",
      "image 94/100 /home/sara/Desktop/Master-thesis/master_thesis/Dataset/images/fde26a6e0.jpg: 768x768 Done. (0.232s)\n",
      "image 95/100 /home/sara/Desktop/Master-thesis/master_thesis/Dataset/images/fde2d7627.jpg: 768x768 Done. (0.111s)\n",
      "image 96/100 /home/sara/Desktop/Master-thesis/master_thesis/Dataset/images/fde30c3b2.jpg: 768x768 Done. (0.101s)\n",
      "image 97/100 /home/sara/Desktop/Master-thesis/master_thesis/Dataset/images/fde37a027.jpg: 768x768 Done. (0.103s)\n",
      "image 98/100 /home/sara/Desktop/Master-thesis/master_thesis/Dataset/images/fde3be356.jpg: 768x768 Done. (0.111s)\n",
      "image 99/100 /home/sara/Desktop/Master-thesis/master_thesis/Dataset/images/fde435a6d.jpg: 768x768 Done. (0.100s)\n",
      "Traceback (most recent call last):\n",
      "  File \"yolov5/detect.py\", line 257, in <module>\n",
      "    main(opt)\n",
      "  File \"yolov5/detect.py\", line 252, in main\n",
      "    run(**vars(opt))\n",
      "  File \"/home/sara/anaconda3/envs/master/lib/python3.7/site-packages/torch/autograd/grad_mode.py\", line 26, in decorate_context\n",
      "    return func(*args, **kwargs)\n",
      "  File \"yolov5/detect.py\", line 115, in run\n",
      "    for path, im, im0s, vid_cap, s in dataset:\n",
      "  File \"/home/sara/Desktop/Master-thesis/master_thesis/yolov5/utils/datasets.py\", line 220, in __next__\n",
      "    assert img0 is not None, f'Image Not Found {path}'\n",
      "AssertionError: Image Not Found /home/sara/Desktop/Master-thesis/master_thesis/Dataset/images/fde579b95.jpg\n"
     ]
    }
   ],
   "source": [
    "#from PIL import Image\n",
    "%cd /home/sara/Desktop/Master-thesis/master_thesis/\n",
    "!python yolov5/detect.py --weights Dataset/yolov5n.pt --img 768 --source Dataset/images --project Dataset/yolo_results/untrained_weights\n",
    "#display.Image(filename='Dataset/images_one/0a0df8299.jpg', width=600)"
   ]
  },
  {
   "cell_type": "code",
   "execution_count": null,
   "metadata": {},
   "outputs": [],
   "source": []
  }
 ],
 "metadata": {
  "interpreter": {
   "hash": "183b0f8ce73dacaa42f1974bca33c4be1e696327158103aff23c1635ce5bf913"
  },
  "kernelspec": {
   "display_name": "Python 3.7.12 ('master')",
   "language": "python",
   "name": "python3"
  },
  "language_info": {
   "codemirror_mode": {
    "name": "ipython",
    "version": 3
   },
   "file_extension": ".py",
   "mimetype": "text/x-python",
   "name": "python",
   "nbconvert_exporter": "python",
   "pygments_lexer": "ipython3",
   "version": "3.7.12"
  },
  "orig_nbformat": 4
 },
 "nbformat": 4,
 "nbformat_minor": 2
}
