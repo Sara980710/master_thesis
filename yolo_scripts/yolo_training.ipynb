{
 "cells": [
  {
   "cell_type": "markdown",
   "metadata": {},
   "source": [
    "# Setup"
   ]
  },
  {
   "cell_type": "code",
   "execution_count": 1,
   "metadata": {},
   "outputs": [
    {
     "name": "stderr",
     "output_type": "stream",
     "text": [
      "YOLOv5 🚀 v6.0-274-gc43f135 torch 1.7.0 CPU\n"
     ]
    },
    {
     "name": "stdout",
     "output_type": "stream",
     "text": [
      "Setup complete ✅ (8 CPUs, 11.4 GB RAM, 57.3/95.6 GB disk)\n"
     ]
    }
   ],
   "source": [
    "%cd /home/sara/Desktop/Master-thesis/master_thesis/yolo_scripts/\n",
    "!git clone https://github.com/ultralytics/yolov5  # clone\n",
    "%cd yolov5\n",
    "\n",
    "import torch\n",
    "from yolov5 import utils\n",
    "import cv2\n",
    "import os\n",
    "\n",
    "display = utils.notebook_init()  # checks"
   ]
  },
  {
   "cell_type": "markdown",
   "metadata": {},
   "source": [
    "# Train"
   ]
  },
  {
   "cell_type": "code",
   "execution_count": 2,
   "metadata": {},
   "outputs": [
    {
     "name": "stdout",
     "output_type": "stream",
     "text": [
      "Setup complete. Using torch 1.7.0 (CPU)\n"
     ]
    }
   ],
   "source": [
    "print(f\"Setup complete. Using torch {torch.__version__} ({torch.cuda.get_device_properties(0).name if torch.cuda.is_available() else 'CPU'})\")"
   ]
  },
  {
   "cell_type": "code",
   "execution_count": 6,
   "metadata": {},
   "outputs": [
    {
     "name": "stdout",
     "output_type": "stream",
     "text": [
      "(768, 768, 3)\n"
     ]
    }
   ],
   "source": [
    "# Get image size \n",
    "dataset_dir = \"/home/sara/Desktop/Master-thesis/master_thesis/Dataset/\"\n",
    "repo_dir = \"/home/sara/Desktop/Master-thesis/master_thesis/yolo_scripts/\"\n",
    "\n",
    "img_name = \"0a0df8299.jpg\"\n",
    "img_path = os.path.join(dataset_dir, \"images_one\",img_name)\n",
    "\n",
    "img = cv2.imread(img_path)\n",
    "w_image,h_image = img.shape[:2]\n",
    "pixels = w_image*h_image\n",
    "print(img.shape)"
   ]
  },
  {
   "cell_type": "code",
   "execution_count": 9,
   "metadata": {},
   "outputs": [
    {
     "name": "stdout",
     "output_type": "stream",
     "text": [
      "\u001b[34m\u001b[1mtrain: \u001b[0mweights=/home/sara/Desktop/Master-thesis/master_thesis/yolo_scripts//yolov5n.pt, cfg=, data=/home/sara/Desktop/Master-thesis/master_thesis/yolo_scripts//yolo_dataset_parameters.yaml, hyp=data/hyps/hyp.scratch.yaml, epochs=10, batch_size=16, imgsz=768, rect=False, resume=False, nosave=False, noval=False, noautoanchor=False, evolve=None, bucket=, cache=ram, image_weights=False, device=, multi_scale=False, single_cls=False, optimizer=SGD, sync_bn=False, workers=8, project=runs/train, name=exp, exist_ok=False, quad=False, linear_lr=False, label_smoothing=0.0, patience=100, freeze=[0], save_period=-1, local_rank=-1, entity=None, upload_dataset=False, bbox_interval=-1, artifact_alias=latest\n",
      "\u001b[34m\u001b[1mgithub: \u001b[0mup to date with https://github.com/ultralytics/yolov5 ✅\n",
      "YOLOv5 🚀 v6.0-274-gc43f135 torch 1.7.0 CPU\n",
      "\n",
      "\u001b[34m\u001b[1mhyperparameters: \u001b[0mlr0=0.01, lrf=0.1, momentum=0.937, weight_decay=0.0005, warmup_epochs=3.0, warmup_momentum=0.8, warmup_bias_lr=0.1, box=0.05, cls=0.5, cls_pw=1.0, obj=1.0, obj_pw=1.0, iou_t=0.2, anchor_t=4.0, fl_gamma=0.0, hsv_h=0.015, hsv_s=0.7, hsv_v=0.4, degrees=0.0, translate=0.1, scale=0.5, shear=0.0, perspective=0.0, flipud=0.0, fliplr=0.5, mosaic=1.0, mixup=0.0, copy_paste=0.0\n",
      "\u001b[34m\u001b[1mWeights & Biases: \u001b[0mrun 'pip install wandb' to automatically track and visualize YOLOv5 🚀 runs (RECOMMENDED)\n",
      "\u001b[34m\u001b[1mTensorBoard: \u001b[0mStart with 'tensorboard --logdir runs/train', view at http://localhost:6006/\n",
      "Overriding model.yaml nc=80 with nc=1\n",
      "\n",
      "                 from  n    params  module                                  arguments                     \n",
      "  0                -1  1      1760  models.common.Conv                      [3, 16, 6, 2, 2]              \n",
      "  1                -1  1      4672  models.common.Conv                      [16, 32, 3, 2]                \n",
      "  2                -1  1      4800  models.common.C3                        [32, 32, 1]                   \n",
      "  3                -1  1     18560  models.common.Conv                      [32, 64, 3, 2]                \n",
      "  4                -1  2     29184  models.common.C3                        [64, 64, 2]                   \n",
      "  5                -1  1     73984  models.common.Conv                      [64, 128, 3, 2]               \n",
      "  6                -1  3    156928  models.common.C3                        [128, 128, 3]                 \n",
      "  7                -1  1    295424  models.common.Conv                      [128, 256, 3, 2]              \n",
      "  8                -1  1    296448  models.common.C3                        [256, 256, 1]                 \n",
      "  9                -1  1    164608  models.common.SPPF                      [256, 256, 5]                 \n",
      " 10                -1  1     33024  models.common.Conv                      [256, 128, 1, 1]              \n",
      " 11                -1  1         0  torch.nn.modules.upsampling.Upsample    [None, 2, 'nearest']          \n",
      " 12           [-1, 6]  1         0  models.common.Concat                    [1]                           \n",
      " 13                -1  1     90880  models.common.C3                        [256, 128, 1, False]          \n",
      " 14                -1  1      8320  models.common.Conv                      [128, 64, 1, 1]               \n",
      " 15                -1  1         0  torch.nn.modules.upsampling.Upsample    [None, 2, 'nearest']          \n",
      " 16           [-1, 4]  1         0  models.common.Concat                    [1]                           \n",
      " 17                -1  1     22912  models.common.C3                        [128, 64, 1, False]           \n",
      " 18                -1  1     36992  models.common.Conv                      [64, 64, 3, 2]                \n",
      " 19          [-1, 14]  1         0  models.common.Concat                    [1]                           \n",
      " 20                -1  1     74496  models.common.C3                        [128, 128, 1, False]          \n",
      " 21                -1  1    147712  models.common.Conv                      [128, 128, 3, 2]              \n",
      " 22          [-1, 10]  1         0  models.common.Concat                    [1]                           \n",
      " 23                -1  1    296448  models.common.C3                        [256, 256, 1, False]          \n",
      " 24      [17, 20, 23]  1      8118  models.yolo.Detect                      [1, [[10, 13, 16, 30, 33, 23], [30, 61, 62, 45, 59, 119], [116, 90, 156, 198, 373, 326]], [64, 128, 256]]\n",
      "Model Summary: 270 layers, 1765270 parameters, 1765270 gradients\n",
      "\n",
      "Transferred 343/349 items from /home/sara/Desktop/Master-thesis/master_thesis/yolo_scripts/yolov5n.pt\n",
      "Scaled weight_decay = 0.0005\n",
      "\u001b[34m\u001b[1moptimizer:\u001b[0m SGD with parameter groups 57 weight (no decay), 60 weight, 60 bias\n",
      "\u001b[34m\u001b[1mtrain: \u001b[0mScanning '/home/sara/Desktop/Master-thesis/master_thesis/Dataset/only_boa\u001b[0m\n",
      "\u001b[34m\u001b[1mtrain: \u001b[0mNew cache created: /home/sara/Desktop/Master-thesis/master_thesis/Dataset/only_boats/labels.cache\n",
      "\u001b[34m\u001b[1mtrain: \u001b[0mCaching images (1.1GB ram): 100%|█████| 644/644 [00:01<00:00, 582.97it/s]\u001b[0m\n",
      "\u001b[34m\u001b[1mval: \u001b[0mScanning '/home/sara/Desktop/Master-thesis/master_thesis/Dataset/val/labels\u001b[0m\n",
      "\u001b[34m\u001b[1mval: \u001b[0mWARNING: /home/sara/Desktop/Master-thesis/master_thesis/Dataset/val/images/fde579b95.jpg: ignoring corrupt image/label: cannot identify image file '/home/sara/Desktop/Master-thesis/master_thesis/Dataset/val/images/fde579b95.jpg'\n",
      "\u001b[34m\u001b[1mval: \u001b[0mCaching images (0.2GB ram): 100%|█████████| 99/99 [00:00<00:00, 112.66it/s]\u001b[0m\n",
      "Plotting labels to runs/train/exp2/labels.jpg... \n",
      "\n",
      "\u001b[34m\u001b[1mAutoAnchor: \u001b[0m4.33 anchors/target, 0.989 Best Possible Recall (BPR). Current anchors are a good fit to dataset ✅\n",
      "Image sizes 768 train, 768 val\n",
      "Using 8 dataloader workers\n",
      "Logging results to \u001b[1mruns/train/exp2\u001b[0m\n",
      "Starting training for 10 epochs...\n",
      "\n",
      "     Epoch   gpu_mem       box       obj       cls    labels  img_size\n",
      "       0/9        0G    0.1301    0.0282         0        13       768: 100%|███\n",
      "               Class     Images     Labels          P          R     mAP@.5 mAP@\n",
      "                 all         99          0          0          0          0          0\n",
      "\n",
      "     Epoch   gpu_mem       box       obj       cls    labels  img_size\n",
      "       1/9        0G     0.117   0.01895         0        13       768: 100%|███\n",
      "               Class     Images     Labels          P          R     mAP@.5 mAP@\n",
      "                 all         99          0          0          0          0          0\n",
      "\n",
      "     Epoch   gpu_mem       box       obj       cls    labels  img_size\n",
      "       2/9        0G     0.102   0.01867         0        12       768: 100%|███\n",
      "               Class     Images     Labels          P          R     mAP@.5 mAP@\n",
      "                 all         99          0          0          0          0          0\n",
      "\n",
      "     Epoch   gpu_mem       box       obj       cls    labels  img_size\n",
      "       3/9        0G   0.08922   0.01974         0         7       768: 100%|███\n",
      "               Class     Images     Labels          P          R     mAP@.5 mAP@\n",
      "                 all         99          0          0          0          0          0\n",
      "\n",
      "     Epoch   gpu_mem       box       obj       cls    labels  img_size\n",
      "       4/9        0G   0.07878   0.02039         0         4       768: 100%|███\n",
      "               Class     Images     Labels          P          R     mAP@.5 mAP@\n",
      "                 all         99          0          0          0          0          0\n",
      "\n",
      "     Epoch   gpu_mem       box       obj       cls    labels  img_size\n",
      "       5/9        0G   0.07303   0.02001         0         7       768: 100%|███\n",
      "               Class     Images     Labels          P          R     mAP@.5 mAP@\n",
      "                 all         99          0          0          0          0          0\n",
      "\n",
      "     Epoch   gpu_mem       box       obj       cls    labels  img_size\n",
      "       6/9        0G    0.0696   0.01934         0        12       768: 100%|███\n",
      "               Class     Images     Labels          P          R     mAP@.5 mAP@\n",
      "                 all         99          0          0          0          0          0\n",
      "\n",
      "     Epoch   gpu_mem       box       obj       cls    labels  img_size\n",
      "       7/9        0G    0.0659   0.01793         0         8       768: 100%|███\n",
      "               Class     Images     Labels          P          R     mAP@.5 mAP@\n",
      "                 all         99          0          0          0          0          0\n",
      "\n",
      "     Epoch   gpu_mem       box       obj       cls    labels  img_size\n",
      "       8/9        0G   0.06334   0.01863         0        10       768: 100%|███\n",
      "               Class     Images     Labels          P          R     mAP@.5 mAP@\n",
      "                 all         99          0          0          0          0          0\n",
      "\n",
      "     Epoch   gpu_mem       box       obj       cls    labels  img_size\n",
      "       9/9        0G   0.06192   0.01717         0         6       768: 100%|███\n",
      "               Class     Images     Labels          P          R     mAP@.5 mAP@\n",
      "                 all         99          0          0          0          0          0\n",
      "\n",
      "10 epochs completed in 0.590 hours.\n",
      "Optimizer stripped from runs/train/exp2/weights/last.pt, 4.0MB\n",
      "Optimizer stripped from runs/train/exp2/weights/best.pt, 4.0MB\n",
      "\n",
      "Validating runs/train/exp2/weights/best.pt...\n",
      "Fusing layers... \n",
      "Model Summary: 213 layers, 1760518 parameters, 0 gradients\n",
      "               Class     Images     Labels          P          R     mAP@.5 mAP@\n",
      "                 all         99          0          0          0          0          0\n",
      "Results saved to \u001b[1mruns/train/exp2\u001b[0m\n",
      "Exception ignored in: <function _MultiProcessingDataLoaderIter.__del__ at 0x7feedd743d40>\n",
      "Traceback (most recent call last):\n",
      "  File \"/home/sara/anaconda3/envs/master/lib/python3.7/site-packages/torch/utils/data/dataloader.py\", line 1203, in __del__\n",
      "  File \"/home/sara/anaconda3/envs/master/lib/python3.7/site-packages/torch/utils/data/dataloader.py\", line 1144, in _shutdown_workers\n",
      "AttributeError: 'NoneType' object has no attribute 'python_exit_status'\n",
      "Exception ignored in: <function _MultiProcessingDataLoaderIter.__del__ at 0x7feedd743d40>\n",
      "Traceback (most recent call last):\n",
      "  File \"/home/sara/anaconda3/envs/master/lib/python3.7/site-packages/torch/utils/data/dataloader.py\", line 1203, in __del__\n",
      "  File \"/home/sara/anaconda3/envs/master/lib/python3.7/site-packages/torch/utils/data/dataloader.py\", line 1144, in _shutdown_workers\n",
      "AttributeError: 'NoneType' object has no attribute 'python_exit_status'\n"
     ]
    }
   ],
   "source": [
    "!python {repo_dir}/yolov5/train.py --img 768 --batch 16 --epochs 10 --data {repo_dir}/yolo_dataset_parameters.yaml --weights {repo_dir}/yolov5n.pt --cache --project {dataset_dir}/yolo_results/untrained_weights"
   ]
  },
  {
   "cell_type": "markdown",
   "metadata": {},
   "source": [
    "### Arguments"
   ]
  },
  {
   "cell_type": "code",
   "execution_count": 11,
   "metadata": {},
   "outputs": [
    {
     "name": "stdout",
     "output_type": "stream",
     "text": [
      "usage: train.py [-h] [--weights WEIGHTS] [--cfg CFG] [--data DATA] [--hyp HYP]\n",
      "                [--epochs EPOCHS] [--batch-size BATCH_SIZE] [--imgsz IMGSZ]\n",
      "                [--rect] [--resume [RESUME]] [--nosave] [--noval]\n",
      "                [--noautoanchor] [--evolve [EVOLVE]] [--bucket BUCKET]\n",
      "                [--cache [CACHE]] [--image-weights] [--device DEVICE]\n",
      "                [--multi-scale] [--single-cls] [--optimizer {SGD,Adam,AdamW}]\n",
      "                [--sync-bn] [--workers WORKERS] [--project PROJECT]\n",
      "                [--name NAME] [--exist-ok] [--quad] [--linear-lr]\n",
      "                [--label-smoothing LABEL_SMOOTHING] [--patience PATIENCE]\n",
      "                [--freeze FREEZE [FREEZE ...]] [--save-period SAVE_PERIOD]\n",
      "                [--local_rank LOCAL_RANK] [--entity ENTITY]\n",
      "                [--upload_dataset [UPLOAD_DATASET]]\n",
      "                [--bbox_interval BBOX_INTERVAL]\n",
      "                [--artifact_alias ARTIFACT_ALIAS]\n",
      "\n",
      "optional arguments:\n",
      "  -h, --help            show this help message and exit\n",
      "  --weights WEIGHTS     initial weights path\n",
      "  --cfg CFG             model.yaml path\n",
      "  --data DATA           dataset.yaml path\n",
      "  --hyp HYP             hyperparameters path\n",
      "  --epochs EPOCHS\n",
      "  --batch-size BATCH_SIZE\n",
      "                        total batch size for all GPUs, -1 for autobatch\n",
      "  --imgsz IMGSZ, --img IMGSZ, --img-size IMGSZ\n",
      "                        train, val image size (pixels)\n",
      "  --rect                rectangular training\n",
      "  --resume [RESUME]     resume most recent training\n",
      "  --nosave              only save final checkpoint\n",
      "  --noval               only validate final epoch\n",
      "  --noautoanchor        disable AutoAnchor\n",
      "  --evolve [EVOLVE]     evolve hyperparameters for x generations\n",
      "  --bucket BUCKET       gsutil bucket\n",
      "  --cache [CACHE]       --cache images in \"ram\" (default) or \"disk\"\n",
      "  --image-weights       use weighted image selection for training\n",
      "  --device DEVICE       cuda device, i.e. 0 or 0,1,2,3 or cpu\n",
      "  --multi-scale         vary img-size +/- 50%\n",
      "  --single-cls          train multi-class data as single-class\n",
      "  --optimizer {SGD,Adam,AdamW}\n",
      "                        optimizer\n",
      "  --sync-bn             use SyncBatchNorm, only available in DDP mode\n",
      "  --workers WORKERS     max dataloader workers (per RANK in DDP mode)\n",
      "  --project PROJECT     save to project/name\n",
      "  --name NAME           save to project/name\n",
      "  --exist-ok            existing project/name ok, do not increment\n",
      "  --quad                quad dataloader\n",
      "  --linear-lr           linear LR\n",
      "  --label-smoothing LABEL_SMOOTHING\n",
      "                        Label smoothing epsilon\n",
      "  --patience PATIENCE   EarlyStopping patience (epochs without improvement)\n",
      "  --freeze FREEZE [FREEZE ...]\n",
      "                        Freeze layers: backbone=10, first3=0 1 2\n",
      "  --save-period SAVE_PERIOD\n",
      "                        Save checkpoint every x epochs (disabled if < 1)\n",
      "  --local_rank LOCAL_RANK\n",
      "                        DDP parameter, do not modify\n",
      "  --entity ENTITY       W&B: Entity\n",
      "  --upload_dataset [UPLOAD_DATASET]\n",
      "                        W&B: Upload data, \"val\" option\n",
      "  --bbox_interval BBOX_INTERVAL\n",
      "                        W&B: Set bounding-box image logging interval\n",
      "  --artifact_alias ARTIFACT_ALIAS\n",
      "                        W&B: Version of dataset artifact to use\n"
     ]
    }
   ],
   "source": [
    "!python /home/sara/Desktop/Master-thesis/master_thesis/yolov5/train.py -h"
   ]
  }
 ],
 "metadata": {
  "interpreter": {
   "hash": "183b0f8ce73dacaa42f1974bca33c4be1e696327158103aff23c1635ce5bf913"
  },
  "kernelspec": {
   "display_name": "Python 3.7.12 ('master')",
   "language": "python",
   "name": "python3"
  },
  "language_info": {
   "codemirror_mode": {
    "name": "ipython",
    "version": 3
   },
   "file_extension": ".py",
   "mimetype": "text/x-python",
   "name": "python",
   "nbconvert_exporter": "python",
   "pygments_lexer": "ipython3",
   "version": "3.7.12"
  },
  "orig_nbformat": 4
 },
 "nbformat": 4,
 "nbformat_minor": 2
}
