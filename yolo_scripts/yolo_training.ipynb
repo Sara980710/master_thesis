{
 "cells": [
  {
   "cell_type": "markdown",
   "metadata": {},
   "source": [
    "# Setup"
   ]
  },
  {
   "cell_type": "code",
   "execution_count": 7,
   "metadata": {},
   "outputs": [
    {
     "name": "stdout",
     "output_type": "stream",
     "text": [
      "/home/sara/Desktop/Master-thesis/master_thesis\n",
      "Checking setup...\n"
     ]
    },
    {
     "ename": "ModuleNotFoundError",
     "evalue": "No module named 'utils'",
     "output_type": "error",
     "traceback": [
      "\u001b[0;31m---------------------------------------------------------------------------\u001b[0m",
      "\u001b[0;31mModuleNotFoundError\u001b[0m                       Traceback (most recent call last)",
      "\u001b[0;32m<ipython-input-7-55a826bd1688>\u001b[0m in \u001b[0;36m<module>\u001b[0;34m\u001b[0m\n\u001b[1;32m      5\u001b[0m \u001b[0;32mimport\u001b[0m \u001b[0mtorch\u001b[0m\u001b[0;34m\u001b[0m\u001b[0;34m\u001b[0m\u001b[0m\n\u001b[1;32m      6\u001b[0m \u001b[0;32mfrom\u001b[0m \u001b[0myolov5\u001b[0m \u001b[0;32mimport\u001b[0m \u001b[0mutils\u001b[0m\u001b[0;34m\u001b[0m\u001b[0;34m\u001b[0m\u001b[0m\n\u001b[0;32m----> 7\u001b[0;31m \u001b[0mdisplay\u001b[0m \u001b[0;34m=\u001b[0m \u001b[0mutils\u001b[0m\u001b[0;34m.\u001b[0m\u001b[0mnotebook_init\u001b[0m\u001b[0;34m(\u001b[0m\u001b[0;34m)\u001b[0m  \u001b[0;31m# checks\u001b[0m\u001b[0;34m\u001b[0m\u001b[0;34m\u001b[0m\u001b[0m\n\u001b[0m",
      "\u001b[0;32m~/Desktop/Master-thesis/master_thesis/yolov5/utils/__init__.py\u001b[0m in \u001b[0;36mnotebook_init\u001b[0;34m(verbose)\u001b[0m\n\u001b[1;32m     12\u001b[0m     \u001b[0;32mimport\u001b[0m \u001b[0mshutil\u001b[0m\u001b[0;34m\u001b[0m\u001b[0;34m\u001b[0m\u001b[0m\n\u001b[1;32m     13\u001b[0m \u001b[0;34m\u001b[0m\u001b[0m\n\u001b[0;32m---> 14\u001b[0;31m     \u001b[0;32mfrom\u001b[0m \u001b[0mutils\u001b[0m\u001b[0;34m.\u001b[0m\u001b[0mgeneral\u001b[0m \u001b[0;32mimport\u001b[0m \u001b[0mcheck_requirements\u001b[0m\u001b[0;34m,\u001b[0m \u001b[0memojis\u001b[0m\u001b[0;34m,\u001b[0m \u001b[0mis_colab\u001b[0m\u001b[0;34m\u001b[0m\u001b[0;34m\u001b[0m\u001b[0m\n\u001b[0m\u001b[1;32m     15\u001b[0m     \u001b[0;32mfrom\u001b[0m \u001b[0mutils\u001b[0m\u001b[0;34m.\u001b[0m\u001b[0mtorch_utils\u001b[0m \u001b[0;32mimport\u001b[0m \u001b[0mselect_device\u001b[0m  \u001b[0;31m# imports\u001b[0m\u001b[0;34m\u001b[0m\u001b[0;34m\u001b[0m\u001b[0m\n\u001b[1;32m     16\u001b[0m \u001b[0;34m\u001b[0m\u001b[0m\n",
      "\u001b[0;31mModuleNotFoundError\u001b[0m: No module named 'utils'"
     ]
    }
   ],
   "source": [
    "#!git clone https://github.com/ultralytics/yolov5  # clone\n",
    "%cd /home/sara/Desktop/Master-thesis/master_thesis/\n",
    "#%conda install --file requirements.txt  # install\n",
    "\n",
    "import torch\n",
    "from yolov5 import utils\n",
    "display = utils.notebook_init()  # checks"
   ]
  },
  {
   "cell_type": "markdown",
   "metadata": {},
   "source": [
    "# Train"
   ]
  },
  {
   "cell_type": "code",
   "execution_count": 48,
   "metadata": {},
   "outputs": [
    {
     "name": "stdout",
     "output_type": "stream",
     "text": [
      "Setup complete. Using torch 1.4.0 (CPU)\n"
     ]
    }
   ],
   "source": [
    "import cv2\n",
    "import os\n",
    "import torch\n",
    "from IPython.display import Image, clear_output  # to display images\n",
    "\n",
    "print(f\"Setup complete. Using torch {torch.__version__} ({torch.cuda.get_device_properties(0).name if torch.cuda.is_available() else 'CPU'})\")"
   ]
  },
  {
   "cell_type": "code",
   "execution_count": 50,
   "metadata": {},
   "outputs": [
    {
     "name": "stdout",
     "output_type": "stream",
     "text": [
      "(768, 768, 3)\n"
     ]
    }
   ],
   "source": [
    "# Get image size \n",
    "dataset_dir = \"/home/sara/Desktop/Master-thesis/master_thesis/Dataset/\"\n",
    "img_name = \"0a0df8299.jpg\"\n",
    "img_path = os.path.join(dataset_dir, \"images_big\",img_name)\n",
    "\n",
    "img = cv2.imread(img_path)\n",
    "w_image,h_image = img.shape[:2]\n",
    "pixels = w_image*h_image\n",
    "print(img.shape)"
   ]
  },
  {
   "cell_type": "code",
   "execution_count": 51,
   "metadata": {},
   "outputs": [
    {
     "data": {
      "application/javascript": "google.colab.output.setIframeHeight(0, true, {maxHeight: 300})",
      "text/plain": [
       "<IPython.core.display.Javascript object>"
      ]
     },
     "metadata": {},
     "output_type": "display_data"
    },
    {
     "name": "stdout",
     "output_type": "stream",
     "text": [
      "\u001b[34m\u001b[1mtrain: \u001b[0mweights=yolov5n.pt, cfg=, data=/home/sara/Desktop/Master-thesis/master_thesis/Dataset//yolo_dataset_parameters.yaml, hyp=../yolov5/data/hyps/hyp.scratch.yaml, epochs=10, batch_size=16, imgsz=768, rect=False, resume=False, nosave=False, noval=False, noautoanchor=False, evolve=None, bucket=, cache=ram, image_weights=False, device=, multi_scale=False, single_cls=False, optimizer=SGD, sync_bn=False, workers=8, project=../yolov5/runs/train, name=exp, exist_ok=False, quad=False, linear_lr=False, label_smoothing=0.0, patience=100, freeze=[0], save_period=-1, local_rank=-1, entity=None, upload_dataset=False, bbox_interval=-1, artifact_alias=latest\n",
      "\u001b[34m\u001b[1mgithub: \u001b[0mskipping check (not a git repository), for updates see https://github.com/ultralytics/yolov5\n",
      "YOLOv5 🚀 83d4ac3 torch 1.9.0 CPU\n",
      "\n",
      "\u001b[34m\u001b[1mhyperparameters: \u001b[0mlr0=0.01, lrf=0.1, momentum=0.937, weight_decay=0.0005, warmup_epochs=3.0, warmup_momentum=0.8, warmup_bias_lr=0.1, box=0.05, cls=0.5, cls_pw=1.0, obj=1.0, obj_pw=1.0, iou_t=0.2, anchor_t=4.0, fl_gamma=0.0, hsv_h=0.015, hsv_s=0.7, hsv_v=0.4, degrees=0.0, translate=0.1, scale=0.5, shear=0.0, perspective=0.0, flipud=0.0, fliplr=0.5, mosaic=1.0, mixup=0.0, copy_paste=0.0\n",
      "\u001b[34m\u001b[1mWeights & Biases: \u001b[0mrun 'pip install wandb' to automatically track and visualize YOLOv5 🚀 runs (RECOMMENDED)\n",
      "\u001b[34m\u001b[1mTensorBoard: \u001b[0mStart with 'tensorboard --logdir ../yolov5/runs/train', view at http://localhost:6006/\n",
      "Overriding model.yaml nc=80 with nc=1\n",
      "\n",
      "                 from  n    params  module                                  arguments                     \n",
      "  0                -1  1      1760  models.common.Conv                      [3, 16, 6, 2, 2]              \n",
      "  1                -1  1      4672  models.common.Conv                      [16, 32, 3, 2]                \n",
      "  2                -1  1      4800  models.common.C3                        [32, 32, 1]                   \n",
      "  3                -1  1     18560  models.common.Conv                      [32, 64, 3, 2]                \n",
      "  4                -1  2     29184  models.common.C3                        [64, 64, 2]                   \n",
      "  5                -1  1     73984  models.common.Conv                      [64, 128, 3, 2]               \n",
      "  6                -1  3    156928  models.common.C3                        [128, 128, 3]                 \n",
      "  7                -1  1    295424  models.common.Conv                      [128, 256, 3, 2]              \n",
      "  8                -1  1    296448  models.common.C3                        [256, 256, 1]                 \n",
      "  9                -1  1    164608  models.common.SPPF                      [256, 256, 5]                 \n",
      " 10                -1  1     33024  models.common.Conv                      [256, 128, 1, 1]              \n",
      " 11                -1  1         0  torch.nn.modules.upsampling.Upsample    [None, 2, 'nearest']          \n",
      " 12           [-1, 6]  1         0  models.common.Concat                    [1]                           \n",
      " 13                -1  1     90880  models.common.C3                        [256, 128, 1, False]          \n",
      " 14                -1  1      8320  models.common.Conv                      [128, 64, 1, 1]               \n",
      " 15                -1  1         0  torch.nn.modules.upsampling.Upsample    [None, 2, 'nearest']          \n",
      " 16           [-1, 4]  1         0  models.common.Concat                    [1]                           \n",
      " 17                -1  1     22912  models.common.C3                        [128, 64, 1, False]           \n",
      " 18                -1  1     36992  models.common.Conv                      [64, 64, 3, 2]                \n",
      " 19          [-1, 14]  1         0  models.common.Concat                    [1]                           \n",
      " 20                -1  1     74496  models.common.C3                        [128, 128, 1, False]          \n",
      " 21                -1  1    147712  models.common.Conv                      [128, 128, 3, 2]              \n",
      " 22          [-1, 10]  1         0  models.common.Concat                    [1]                           \n",
      " 23                -1  1    296448  models.common.C3                        [256, 256, 1, False]          \n",
      " 24      [17, 20, 23]  1      8118  models.yolo.Detect                      [1, [[10, 13, 16, 30, 33, 23], [30, 61, 62, 45, 59, 119], [116, 90, 156, 198, 373, 326]], [64, 128, 256]]\n",
      "Model Summary: 270 layers, 1765270 parameters, 1765270 gradients\n",
      "\n",
      "Transferred 343/349 items from yolov5n.pt\n",
      "Scaled weight_decay = 0.0005\n",
      "\u001b[34m\u001b[1moptimizer:\u001b[0m SGD with parameter groups 57 weight (no decay), 60 weight, 60 bias\n",
      "\u001b[34m\u001b[1mtrain: \u001b[0mScanning '/home/sara/Desktop/Master-thesis/master_thesis/Dataset/images_b\u001b[0m\n",
      "\u001b[34m\u001b[1mtrain: \u001b[0mWARNING: /home/sara/Desktop/Master-thesis/master_thesis/Dataset/images_big/235ab820b.jpg: ignoring corrupt image/label: image file is truncated (27 bytes not processed)\n",
      "\u001b[34m\u001b[1mtrain: \u001b[0mWARNING: /home/sara/Desktop/Master-thesis/master_thesis/Dataset/images_big/3ec49e521.jpg: ignoring corrupt image/label: cannot identify image file '/home/sara/Desktop/Master-thesis/master_thesis/Dataset/images_big/3ec49e521.jpg'\n",
      "\u001b[34m\u001b[1mtrain: \u001b[0mWARNING: /home/sara/Desktop/Master-thesis/master_thesis/Dataset/images_big/51d239d33.jpg: ignoring corrupt image/label: image file is truncated (9 bytes not processed)\n",
      "\u001b[34m\u001b[1mtrain: \u001b[0mWARNING: /home/sara/Desktop/Master-thesis/master_thesis/Dataset/images_big/5d8917055.jpg: ignoring corrupt image/label: image file is truncated (61 bytes not processed)\n",
      "\u001b[34m\u001b[1mtrain: \u001b[0mWARNING: /home/sara/Desktop/Master-thesis/master_thesis/Dataset/images_big/623e880df.jpg: ignoring corrupt image/label: cannot identify image file '/home/sara/Desktop/Master-thesis/master_thesis/Dataset/images_big/623e880df.jpg'\n",
      "\u001b[34m\u001b[1mtrain: \u001b[0mWARNING: /home/sara/Desktop/Master-thesis/master_thesis/Dataset/images_big/6384c3e78.jpg: ignoring corrupt image/label: image file is truncated (55 bytes not processed)\n",
      "\u001b[34m\u001b[1mtrain: \u001b[0mWARNING: No labels found in /home/sara/Desktop/Master-thesis/master_thesis/Dataset/images_big.cache. See https://github.com/ultralytics/yolov5/wiki/Train-Custom-Data\n",
      "\u001b[34m\u001b[1mtrain: \u001b[0mNew cache created: /home/sara/Desktop/Master-thesis/master_thesis/Dataset/images_big.cache\n",
      "Traceback (most recent call last):\n",
      "  File \"../yolov5/train.py\", line 644, in <module>\n",
      "    main(opt)\n",
      "  File \"../yolov5/train.py\", line 541, in main\n",
      "    train(opt.hyp, opt, device, callbacks)\n",
      "  File \"../yolov5/train.py\", line 227, in train\n",
      "    prefix=colorstr('train: '), shuffle=True)\n",
      "  File \"/home/sara/Desktop/Master-thesis/master_thesis/yolov5/utils/datasets.py\", line 109, in create_dataloader\n",
      "    prefix=prefix)\n",
      "  File \"/home/sara/Desktop/Master-thesis/master_thesis/yolov5/utils/datasets.py\", line 433, in __init__\n",
      "    assert nf > 0 or not augment, f'{prefix}No labels in {cache_path}. Can not train without labels. See {HELP_URL}'\n",
      "AssertionError: \u001b[34m\u001b[1mtrain: \u001b[0mNo labels in /home/sara/Desktop/Master-thesis/master_thesis/Dataset/images_big.cache. Can not train without labels. See https://github.com/ultralytics/yolov5/wiki/Train-Custom-Data\n"
     ]
    }
   ],
   "source": [
    "from IPython.display import Javascript  # Restrict height of output cell.\n",
    "display(Javascript('''google.colab.output.setIframeHeight(0, true, {maxHeight: 300})'''))\n",
    "\n",
    "!python ../yolov5/train.py --img 768 --batch 16 --epochs 10 --data {dataset_dir}/yolo_dataset_parameters.yaml --weights yolov5n.pt --cache"
   ]
  },
  {
   "cell_type": "code",
   "execution_count": null,
   "metadata": {},
   "outputs": [],
   "source": []
  },
  {
   "cell_type": "markdown",
   "metadata": {},
   "source": [
    "# Inference"
   ]
  },
  {
   "cell_type": "markdown",
   "metadata": {},
   "source": [
    "### Arguments"
   ]
  },
  {
   "cell_type": "code",
   "execution_count": 11,
   "metadata": {},
   "outputs": [
    {
     "name": "stdout",
     "output_type": "stream",
     "text": [
      "usage: train.py [-h] [--weights WEIGHTS] [--cfg CFG] [--data DATA] [--hyp HYP]\n",
      "                [--epochs EPOCHS] [--batch-size BATCH_SIZE] [--imgsz IMGSZ]\n",
      "                [--rect] [--resume [RESUME]] [--nosave] [--noval]\n",
      "                [--noautoanchor] [--evolve [EVOLVE]] [--bucket BUCKET]\n",
      "                [--cache [CACHE]] [--image-weights] [--device DEVICE]\n",
      "                [--multi-scale] [--single-cls] [--optimizer {SGD,Adam,AdamW}]\n",
      "                [--sync-bn] [--workers WORKERS] [--project PROJECT]\n",
      "                [--name NAME] [--exist-ok] [--quad] [--linear-lr]\n",
      "                [--label-smoothing LABEL_SMOOTHING] [--patience PATIENCE]\n",
      "                [--freeze FREEZE [FREEZE ...]] [--save-period SAVE_PERIOD]\n",
      "                [--local_rank LOCAL_RANK] [--entity ENTITY]\n",
      "                [--upload_dataset [UPLOAD_DATASET]]\n",
      "                [--bbox_interval BBOX_INTERVAL]\n",
      "                [--artifact_alias ARTIFACT_ALIAS]\n",
      "\n",
      "optional arguments:\n",
      "  -h, --help            show this help message and exit\n",
      "  --weights WEIGHTS     initial weights path\n",
      "  --cfg CFG             model.yaml path\n",
      "  --data DATA           dataset.yaml path\n",
      "  --hyp HYP             hyperparameters path\n",
      "  --epochs EPOCHS\n",
      "  --batch-size BATCH_SIZE\n",
      "                        total batch size for all GPUs, -1 for autobatch\n",
      "  --imgsz IMGSZ, --img IMGSZ, --img-size IMGSZ\n",
      "                        train, val image size (pixels)\n",
      "  --rect                rectangular training\n",
      "  --resume [RESUME]     resume most recent training\n",
      "  --nosave              only save final checkpoint\n",
      "  --noval               only validate final epoch\n",
      "  --noautoanchor        disable AutoAnchor\n",
      "  --evolve [EVOLVE]     evolve hyperparameters for x generations\n",
      "  --bucket BUCKET       gsutil bucket\n",
      "  --cache [CACHE]       --cache images in \"ram\" (default) or \"disk\"\n",
      "  --image-weights       use weighted image selection for training\n",
      "  --device DEVICE       cuda device, i.e. 0 or 0,1,2,3 or cpu\n",
      "  --multi-scale         vary img-size +/- 50%\n",
      "  --single-cls          train multi-class data as single-class\n",
      "  --optimizer {SGD,Adam,AdamW}\n",
      "                        optimizer\n",
      "  --sync-bn             use SyncBatchNorm, only available in DDP mode\n",
      "  --workers WORKERS     max dataloader workers (per RANK in DDP mode)\n",
      "  --project PROJECT     save to project/name\n",
      "  --name NAME           save to project/name\n",
      "  --exist-ok            existing project/name ok, do not increment\n",
      "  --quad                quad dataloader\n",
      "  --linear-lr           linear LR\n",
      "  --label-smoothing LABEL_SMOOTHING\n",
      "                        Label smoothing epsilon\n",
      "  --patience PATIENCE   EarlyStopping patience (epochs without improvement)\n",
      "  --freeze FREEZE [FREEZE ...]\n",
      "                        Freeze layers: backbone=10, first3=0 1 2\n",
      "  --save-period SAVE_PERIOD\n",
      "                        Save checkpoint every x epochs (disabled if < 1)\n",
      "  --local_rank LOCAL_RANK\n",
      "                        DDP parameter, do not modify\n",
      "  --entity ENTITY       W&B: Entity\n",
      "  --upload_dataset [UPLOAD_DATASET]\n",
      "                        W&B: Upload data, \"val\" option\n",
      "  --bbox_interval BBOX_INTERVAL\n",
      "                        W&B: Set bounding-box image logging interval\n",
      "  --artifact_alias ARTIFACT_ALIAS\n",
      "                        W&B: Version of dataset artifact to use\n"
     ]
    }
   ],
   "source": [
    "!python /home/sara/Desktop/Master-thesis/master_thesis/yolov5/train.py -h"
   ]
  },
  {
   "cell_type": "markdown",
   "metadata": {},
   "source": [
    "### Inference"
   ]
  },
  {
   "cell_type": "code",
   "execution_count": 17,
   "metadata": {},
   "outputs": [
    {
     "name": "stdout",
     "output_type": "stream",
     "text": [
      "\u001b[34m\u001b[1mtrain: \u001b[0mweights=Dataset/yolov5n.pt, cfg=, data=yolo_scripts/yolo_dataset_parameters.yaml, hyp=yolov5/data/hyps/hyp.scratch.yaml, epochs=10, batch_size=16, imgsz=768, rect=False, resume=False, nosave=False, noval=False, noautoanchor=False, evolve=None, bucket=, cache=ram, image_weights=False, device=cpu, multi_scale=False, single_cls=False, optimizer=SGD, sync_bn=False, workers=8, project=yolov5/runs/train, name=exp, exist_ok=False, quad=False, linear_lr=False, label_smoothing=0.0, patience=100, freeze=[0], save_period=-1, local_rank=-1, entity=None, upload_dataset=False, bbox_interval=-1, artifact_alias=latest\n",
      "\u001b[34m\u001b[1mgithub: \u001b[0mskipping check (not a git repository), for updates see https://github.com/ultralytics/yolov5\n",
      "YOLOv5 🚀 e91a4d9 torch 1.7.0 CPU\n",
      "\n",
      "\u001b[34m\u001b[1mhyperparameters: \u001b[0mlr0=0.01, lrf=0.1, momentum=0.937, weight_decay=0.0005, warmup_epochs=3.0, warmup_momentum=0.8, warmup_bias_lr=0.1, box=0.05, cls=0.5, cls_pw=1.0, obj=1.0, obj_pw=1.0, iou_t=0.2, anchor_t=4.0, fl_gamma=0.0, hsv_h=0.015, hsv_s=0.7, hsv_v=0.4, degrees=0.0, translate=0.1, scale=0.5, shear=0.0, perspective=0.0, flipud=0.0, fliplr=0.5, mosaic=1.0, mixup=0.0, copy_paste=0.0\n",
      "\u001b[34m\u001b[1mWeights & Biases: \u001b[0mrun 'pip install wandb' to automatically track and visualize YOLOv5 🚀 runs (RECOMMENDED)\n",
      "\u001b[34m\u001b[1mTensorBoard: \u001b[0mStart with 'tensorboard --logdir yolov5/runs/train', view at http://localhost:6006/\n",
      "Overriding model.yaml nc=80 with nc=1\n",
      "\n",
      "                 from  n    params  module                                  arguments                     \n",
      "  0                -1  1      1760  models.common.Conv                      [3, 16, 6, 2, 2]              \n",
      "  1                -1  1      4672  models.common.Conv                      [16, 32, 3, 2]                \n",
      "  2                -1  1      4800  models.common.C3                        [32, 32, 1]                   \n",
      "  3                -1  1     18560  models.common.Conv                      [32, 64, 3, 2]                \n",
      "  4                -1  2     29184  models.common.C3                        [64, 64, 2]                   \n",
      "  5                -1  1     73984  models.common.Conv                      [64, 128, 3, 2]               \n",
      "  6                -1  3    156928  models.common.C3                        [128, 128, 3]                 \n",
      "  7                -1  1    295424  models.common.Conv                      [128, 256, 3, 2]              \n",
      "  8                -1  1    296448  models.common.C3                        [256, 256, 1]                 \n",
      "  9                -1  1    164608  models.common.SPPF                      [256, 256, 5]                 \n",
      " 10                -1  1     33024  models.common.Conv                      [256, 128, 1, 1]              \n",
      " 11                -1  1         0  torch.nn.modules.upsampling.Upsample    [None, 2, 'nearest']          \n",
      " 12           [-1, 6]  1         0  models.common.Concat                    [1]                           \n",
      " 13                -1  1     90880  models.common.C3                        [256, 128, 1, False]          \n",
      " 14                -1  1      8320  models.common.Conv                      [128, 64, 1, 1]               \n",
      " 15                -1  1         0  torch.nn.modules.upsampling.Upsample    [None, 2, 'nearest']          \n",
      " 16           [-1, 4]  1         0  models.common.Concat                    [1]                           \n",
      " 17                -1  1     22912  models.common.C3                        [128, 64, 1, False]           \n",
      " 18                -1  1     36992  models.common.Conv                      [64, 64, 3, 2]                \n",
      " 19          [-1, 14]  1         0  models.common.Concat                    [1]                           \n",
      " 20                -1  1     74496  models.common.C3                        [128, 128, 1, False]          \n",
      " 21                -1  1    147712  models.common.Conv                      [128, 128, 3, 2]              \n",
      " 22          [-1, 10]  1         0  models.common.Concat                    [1]                           \n",
      " 23                -1  1    296448  models.common.C3                        [256, 256, 1, False]          \n",
      " 24      [17, 20, 23]  1      8118  models.yolo.Detect                      [1, [[10, 13, 16, 30, 33, 23], [30, 61, 62, 45, 59, 119], [116, 90, 156, 198, 373, 326]], [64, 128, 256]]\n",
      "Model Summary: 270 layers, 1765270 parameters, 1765270 gradients\n",
      "\n",
      "Transferred 343/349 items from Dataset/yolov5n.pt\n",
      "Scaled weight_decay = 0.0005\n",
      "\u001b[34m\u001b[1moptimizer:\u001b[0m SGD with parameter groups 57 weight (no decay), 60 weight, 60 bias\n",
      "\u001b[34m\u001b[1mtrain: \u001b[0mScanning '/home/sara/Desktop/Master-thesis/master_thesis/Dataset/images_t\u001b[0m\n",
      "\u001b[34m\u001b[1mtrain: \u001b[0mWARNING: /home/sara/Desktop/Master-thesis/master_thesis/Dataset/images_together/fdc3d0c7e.jpg: ignoring corrupt image/label: non-normalized or out of bounds coordinates [        706         453          16          11]\n",
      "\u001b[34m\u001b[1mtrain: \u001b[0mWARNING: /home/sara/Desktop/Master-thesis/master_thesis/Dataset/images_together/fdc7cce80.jpg: ignoring corrupt image/label: non-normalized or out of bounds coordinates [        436         520          13          17]\n",
      "\u001b[34m\u001b[1mtrain: \u001b[0mWARNING: /home/sara/Desktop/Master-thesis/master_thesis/Dataset/images_together/fdc7fccc9.jpg: ignoring corrupt image/label: non-normalized or out of bounds coordinates [        595         424         247         314]\n",
      "\u001b[34m\u001b[1mtrain: \u001b[0mWARNING: /home/sara/Desktop/Master-thesis/master_thesis/Dataset/images_together/fdc861581.jpg: ignoring corrupt image/label: non-normalized or out of bounds coordinates [        269         629          27          21]\n",
      "\u001b[34m\u001b[1mtrain: \u001b[0mWARNING: /home/sara/Desktop/Master-thesis/master_thesis/Dataset/images_together/fdc8e2283.jpg: ignoring corrupt image/label: non-normalized or out of bounds coordinates [        616         384          13         768]\n",
      "\u001b[34m\u001b[1mtrain: \u001b[0mWARNING: /home/sara/Desktop/Master-thesis/master_thesis/Dataset/images_together/fdc9706de.jpg: ignoring corrupt image/label: non-normalized or out of bounds coordinates [        264         472          14           7         291         280          19          12]\n",
      "\u001b[34m\u001b[1mtrain: \u001b[0mWARNING: /home/sara/Desktop/Master-thesis/master_thesis/Dataset/images_together/fdc9e9d2f.jpg: ignoring corrupt image/label: non-normalized or out of bounds coordinates [        679         552          20           8]\n",
      "\u001b[34m\u001b[1mtrain: \u001b[0mWARNING: /home/sara/Desktop/Master-thesis/master_thesis/Dataset/images_together/fdca29d51.jpg: ignoring corrupt image/label: non-normalized or out of bounds coordinates [        274         111          67          65]\n",
      "\u001b[34m\u001b[1mtrain: \u001b[0mWARNING: /home/sara/Desktop/Master-thesis/master_thesis/Dataset/images_together/fdccb6a6d.jpg: ignoring corrupt image/label: non-normalized or out of bounds coordinates [        571         579           8          12]\n",
      "\u001b[34m\u001b[1mtrain: \u001b[0mWARNING: /home/sara/Desktop/Master-thesis/master_thesis/Dataset/images_together/fdcd835ec.jpg: ignoring corrupt image/label: non-normalized or out of bounds coordinates [        676          44          72          62         159         511          16          21]\n",
      "\u001b[34m\u001b[1mtrain: \u001b[0mWARNING: /home/sara/Desktop/Master-thesis/master_thesis/Dataset/images_together/fdcfafdcb.jpg: ignoring corrupt image/label: non-normalized or out of bounds coordinates [        400         748          52          26         403         736          41          21]\n",
      "\u001b[34m\u001b[1mtrain: \u001b[0mWARNING: /home/sara/Desktop/Master-thesis/master_thesis/Dataset/images_together/fdcfb2ea1.jpg: ignoring corrupt image/label: non-normalized or out of bounds coordinates [        463         732           8           9]\n",
      "\u001b[34m\u001b[1mtrain: \u001b[0mWARNING: /home/sara/Desktop/Master-thesis/master_thesis/Dataset/images_together/fdd0d35c1.jpg: ignoring corrupt image/label: non-normalized or out of bounds coordinates [         40         500           9           4]\n",
      "\u001b[34m\u001b[1mtrain: \u001b[0mWARNING: /home/sara/Desktop/Master-thesis/master_thesis/Dataset/images_together/fdd4706f9.jpg: ignoring corrupt image/label: non-normalized or out of bounds coordinates [        131         325          66         158]\n",
      "\u001b[34m\u001b[1mtrain: \u001b[0mWARNING: /home/sara/Desktop/Master-thesis/master_thesis/Dataset/images_together/fdd531a7b.jpg: ignoring corrupt image/label: non-normalized or out of bounds coordinates [        621          20          12          10]\n",
      "\u001b[34m\u001b[1mtrain: \u001b[0mWARNING: /home/sara/Desktop/Master-thesis/master_thesis/Dataset/images_together/fdd5fafdb.jpg: ignoring corrupt image/label: non-normalized or out of bounds coordinates [        674         119          33          34         614         138          13          11]\n",
      "\u001b[34m\u001b[1mtrain: \u001b[0mWARNING: /home/sara/Desktop/Master-thesis/master_thesis/Dataset/images_together/fdd95dc56.jpg: ignoring corrupt image/label: non-normalized or out of bounds coordinates [        738         696          59          72]\n",
      "\u001b[34m\u001b[1mtrain: \u001b[0mWARNING: /home/sara/Desktop/Master-thesis/master_thesis/Dataset/images_together/fddd7ab11.jpg: ignoring corrupt image/label: non-normalized or out of bounds coordinates [        252         448          29          34]\n",
      "\u001b[34m\u001b[1mtrain: \u001b[0mWARNING: /home/sara/Desktop/Master-thesis/master_thesis/Dataset/images_together/fddefaa7b.jpg: ignoring corrupt image/label: non-normalized or out of bounds coordinates [         86         495         172         176]\n",
      "\u001b[34m\u001b[1mtrain: \u001b[0mWARNING: /home/sara/Desktop/Master-thesis/master_thesis/Dataset/images_together/fde01b22c.jpg: ignoring corrupt image/label: non-normalized or out of bounds coordinates [        423         371          35          15]\n",
      "\u001b[34m\u001b[1mtrain: \u001b[0mWARNING: /home/sara/Desktop/Master-thesis/master_thesis/Dataset/images_together/fde2d7627.jpg: ignoring corrupt image/label: non-normalized or out of bounds coordinates [        174         698          15          14         153         713          12          10         107         736          11          12]\n",
      "\u001b[34m\u001b[1mtrain: \u001b[0mWARNING: /home/sara/Desktop/Master-thesis/master_thesis/Dataset/images_together/fde579b95.jpg: ignoring corrupt image/label: cannot identify image file '/home/sara/Desktop/Master-thesis/master_thesis/Dataset/images_together/fde579b95.jpg'\n",
      "\u001b[34m\u001b[1mtrain: \u001b[0mNew cache created: /home/sara/Desktop/Master-thesis/master_thesis/Dataset/images_together.cache\n",
      "\u001b[34m\u001b[1mtrain: \u001b[0mCaching images (0.1GB ram): 100%|███████| 78/78 [00:00<00:00, 176.63it/s]\u001b[0m\n",
      "Traceback (most recent call last):\n",
      "  File \"yolov5/train.py\", line 644, in <module>\n",
      "    main(opt)\n",
      "  File \"yolov5/train.py\", line 541, in main\n",
      "    train(opt.hyp, opt, device, callbacks)\n",
      "  File \"yolov5/train.py\", line 228, in train\n",
      "    mlc = int(np.concatenate(dataset.labels, 0)[:, 0].max())  # max label class\n",
      "  File \"/home/sara/anaconda3/envs/master/lib/python3.7/site-packages/numpy/core/_methods.py\", line 40, in _amax\n",
      "    return umr_maximum(a, axis, None, out, keepdims, initial, where)\n",
      "ValueError: zero-size array to reduction operation maximum which has no identity\n",
      "Exception ignored in: <function _MultiProcessingDataLoaderIter.__del__ at 0x7fb90dd3c9e0>\n",
      "Traceback (most recent call last):\n",
      "  File \"/home/sara/anaconda3/envs/master/lib/python3.7/site-packages/torch/utils/data/dataloader.py\", line 1203, in __del__\n",
      "  File \"/home/sara/anaconda3/envs/master/lib/python3.7/site-packages/torch/utils/data/dataloader.py\", line 1144, in _shutdown_workers\n",
      "AttributeError: 'NoneType' object has no attribute 'python_exit_status'\n"
     ]
    }
   ],
   "source": [
    "#from PIL import Image\n",
    "! cd /home/sara/Desktop/Master-thesis/master_thesis/\n",
    "!python yolov5/train.py --img 768 --batch 16 --epochs 10 --data yolo_scripts/yolo_dataset_parameters.yaml --weights Dataset/yolov5n.pt --device cpu --cache\n"
   ]
  },
  {
   "cell_type": "code",
   "execution_count": null,
   "metadata": {},
   "outputs": [],
   "source": []
  }
 ],
 "metadata": {
  "interpreter": {
   "hash": "183b0f8ce73dacaa42f1974bca33c4be1e696327158103aff23c1635ce5bf913"
  },
  "kernelspec": {
   "display_name": "Python 3.7.12 ('master')",
   "language": "python",
   "name": "python3"
  },
  "language_info": {
   "codemirror_mode": {
    "name": "ipython",
    "version": 3
   },
   "file_extension": ".py",
   "mimetype": "text/x-python",
   "name": "python",
   "nbconvert_exporter": "python",
   "pygments_lexer": "ipython3",
   "version": "3.7.12"
  },
  "orig_nbformat": 4
 },
 "nbformat": 4,
 "nbformat_minor": 2
}
