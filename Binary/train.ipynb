{
 "cells": [
  {
   "cell_type": "markdown",
   "metadata": {},
   "source": [
    "# Setup"
   ]
  },
  {
   "cell_type": "markdown",
   "metadata": {},
   "source": [
    "https://towardsdatascience.com/10-minutes-to-building-a-cnn-binary-image-classifier-in-tensorflow-4e216b2034aa"
   ]
  },
  {
   "cell_type": "code",
   "execution_count": 3,
   "metadata": {},
   "outputs": [],
   "source": [
    "import os"
   ]
  },
  {
   "cell_type": "code",
   "execution_count": 4,
   "metadata": {},
   "outputs": [],
   "source": [
    "train_boats_dir = os.path.join('/home/sara/Desktop/Master-thesis/master_thesis/Dataset/binary/train/boat') \n",
    "validation_boats_dir = os.path.join('/home/sara/Desktop/Master-thesis/master_thesis/Dataset/binary/val/boat') \n",
    "\n",
    "train_no_boats_dir = os.path.join('/home/sara/Desktop/Master-thesis/master_thesis/Dataset/binary/train/no_boat') \n",
    "validation_no_boats_dir = os.path.join('/home/sara/Desktop/Master-thesis/master_thesis/Dataset/binary/val/no_boat') "
   ]
  },
  {
   "cell_type": "code",
   "execution_count": 5,
   "metadata": {},
   "outputs": [
    {
     "name": "stdout",
     "output_type": "stream",
     "text": [
      "['fc23a91b3.jpg', 'fb748313b.jpg', 'fb2b9197a.jpg', 'fbc078158.jpg', 'fbc6cd327.jpg', 'fbb8dcf19.jpg', 'fc1dbfee4.jpg', 'f9d4b9343.jpg', 'fbaa8bf5a.jpg', 'f8d0b6652.jpg']\n",
      "['f97e961f2.jpg', 'f90c9a01c.jpg', 'f9109d4cf.jpg', 'f98d30216.jpg', 'fa0f86121.jpg', 'f910ee612.jpg', 'f95e90324.jpg', 'f891e184c.jpg', 'f9fb6b59c.jpg', 'fa4a030f2.jpg']\n",
      "['fc23a91b3.jpg', 'fb748313b.jpg', 'fb2b9197a.jpg', 'fbc078158.jpg', 'fbc6cd327.jpg', 'fbb8dcf19.jpg', 'fc1dbfee4.jpg', 'f9d4b9343.jpg', 'fbaa8bf5a.jpg', 'f8d0b6652.jpg']\n",
      "['f97e961f2.jpg', 'f90c9a01c.jpg', 'f9109d4cf.jpg', 'f98d30216.jpg', 'fa0f86121.jpg', 'f910ee612.jpg', 'f95e90324.jpg', 'f891e184c.jpg', 'f9fb6b59c.jpg', 'fa4a030f2.jpg']\n"
     ]
    }
   ],
   "source": [
    "train_boats_names = os.listdir(train_boats_dir)\n",
    "print(train_boats_names[:10])\n",
    "val_boats_names = os.listdir(validation_boats_dir)\n",
    "print(val_boats_names[:10])\n",
    "\n",
    "train_no_boats_names = os.listdir(train_no_boats_dir)\n",
    "print(train_boats_names[:10])\n",
    "val_no_boats_names = os.listdir(validation_no_boats_dir)\n",
    "print(val_boats_names[:10])"
   ]
  },
  {
   "cell_type": "code",
   "execution_count": 6,
   "metadata": {},
   "outputs": [
    {
     "name": "stdout",
     "output_type": "stream",
     "text": [
      "total training boats images: 491\n",
      "total validation boats images: 153\n",
      "total training no boats images: 1753\n",
      "total validation no boats images: 589\n"
     ]
    }
   ],
   "source": [
    "print('total training boats images:', len(os.listdir(train_boats_dir)))\n",
    "print('total validation boats images:', len(os.listdir(validation_boats_dir)))\n",
    "\n",
    "print('total training no boats images:', len(os.listdir(train_no_boats_dir)))\n",
    "print('total validation no boats images:', len(os.listdir(validation_no_boats_dir)))"
   ]
  },
  {
   "cell_type": "code",
   "execution_count": 7,
   "metadata": {},
   "outputs": [
    {
     "name": "stdout",
     "output_type": "stream",
     "text": [
      "Found 2244 images belonging to 2 classes.\n",
      "Found 742 images belonging to 2 classes.\n"
     ]
    }
   ],
   "source": [
    "from tensorflow.keras.preprocessing.image import ImageDataGenerator\n",
    "\n",
    "# All images will be rescaled by 1./255\n",
    "train_datagen = ImageDataGenerator(rescale=1/255)\n",
    "validation_datagen = ImageDataGenerator(rescale=1/255)\n",
    "\n",
    "# Flow training images in batches of 120 using train_datagen generator\n",
    "train_generator = train_datagen.flow_from_directory(\n",
    "        \"/home/sara/Desktop/Master-thesis/master_thesis/Dataset/binary/train/\",  # This is the source directory for training images\n",
    "        classes = ['boat', 'no_boat'],\n",
    "        target_size=(200, 200),  # All images will be resized to 200x200\n",
    "        batch_size=120,\n",
    "        # Use binary labels\n",
    "        class_mode='binary')\n",
    "\n",
    "# Flow validation images in batches of 19 using valid_datagen generator\n",
    "validation_generator = validation_datagen.flow_from_directory(\n",
    "        \"/home/sara/Desktop/Master-thesis/master_thesis/Dataset/binary/val/\",  # This is the source directory for training images\n",
    "        classes = ['boat', 'no_boat'],\n",
    "        target_size=(200, 200),  # All images will be resized to 200x200\n",
    "        batch_size=19,\n",
    "        # Use binary labels\n",
    "        class_mode='binary',\n",
    "        shuffle=True)"
   ]
  },
  {
   "cell_type": "code",
   "execution_count": 8,
   "metadata": {},
   "outputs": [],
   "source": [
    "import tensorflow as tf\n",
    "import numpy as np\n",
    "from itertools import cycle\n",
    "\n",
    "\n",
    "from sklearn import svm, datasets\n",
    "from sklearn.metrics import roc_curve, auc\n",
    "from sklearn.model_selection import train_test_split\n",
    "from sklearn.preprocessing import label_binarize\n",
    "from sklearn.multiclass import OneVsRestClassifier\n",
    "from scipy import interp\n",
    "from sklearn.metrics import roc_auc_score\n"
   ]
  },
  {
   "cell_type": "code",
   "execution_count": 17,
   "metadata": {},
   "outputs": [],
   "source": [
    "def create_model():\n",
    "    return tf.keras.models.Sequential([tf.keras.layers.Flatten(input_shape = (200,200,3)), \n",
    "                                    tf.keras.layers.Dense(128, activation=tf.nn.relu), \n",
    "                                    tf.keras.layers.Dense(1, activation=tf.nn.sigmoid)])\n",
    "model = create_model()"
   ]
  },
  {
   "cell_type": "code",
   "execution_count": 10,
   "metadata": {},
   "outputs": [
    {
     "name": "stdout",
     "output_type": "stream",
     "text": [
      "Model: \"sequential\"\n",
      "_________________________________________________________________\n",
      " Layer (type)                Output Shape              Param #   \n",
      "=================================================================\n",
      " flatten (Flatten)           (None, 120000)            0         \n",
      "                                                                 \n",
      " dense (Dense)               (None, 128)               15360128  \n",
      "                                                                 \n",
      " dense_1 (Dense)             (None, 1)                 129       \n",
      "                                                                 \n",
      "=================================================================\n",
      "Total params: 15,360,257\n",
      "Trainable params: 15,360,257\n",
      "Non-trainable params: 0\n",
      "_________________________________________________________________\n"
     ]
    }
   ],
   "source": [
    "model.summary()"
   ]
  },
  {
   "cell_type": "code",
   "execution_count": 11,
   "metadata": {},
   "outputs": [],
   "source": [
    "model.compile(optimizer = tf.optimizers.Adam(),\n",
    "              loss = 'binary_crossentropy',\n",
    "              metrics=['accuracy'])"
   ]
  },
  {
   "cell_type": "code",
   "execution_count": 15,
   "metadata": {},
   "outputs": [],
   "source": [
    "# Include the epoch in the file name (uses `str.format`)\n",
    "checkpoint_path = \"/home/sara/Desktop/Master-thesis/master_thesis/Binary/saves/cp-{epoch:04d}.ckpt\"\n",
    "checkpoint_dir = os.path.dirname(checkpoint_path)\n",
    "\n",
    "batch_size = 32\n",
    "\n",
    "# Create a callback that saves the model's weights every 5 epochs\n",
    "cp_callback = tf.keras.callbacks.ModelCheckpoint(\n",
    "    filepath=checkpoint_path, \n",
    "    verbose=1, \n",
    "    save_weights_only=True,\n",
    "    save_freq=5*batch_size)\n",
    "\n",
    "# Save the weights using the `checkpoint_path` format\n",
    "model.save_weights(checkpoint_path.format(epoch=0))"
   ]
  },
  {
   "cell_type": "code",
   "execution_count": 16,
   "metadata": {},
   "outputs": [
    {
     "name": "stdout",
     "output_type": "stream",
     "text": [
      "Epoch 1/100\n",
      "8/8 [==============================] - 9s 1s/step - loss: 0.5236 - accuracy: 0.7979 - val_loss: 0.5591 - val_accuracy: 0.7763\n",
      "Epoch 2/100\n",
      "8/8 [==============================] - 8s 1s/step - loss: 0.3980 - accuracy: 0.8312 - val_loss: 0.5215 - val_accuracy: 0.7566\n",
      "Epoch 3/100\n",
      "8/8 [==============================] - 9s 1s/step - loss: 0.4320 - accuracy: 0.8010 - val_loss: 0.7001 - val_accuracy: 0.6974\n",
      "Epoch 4/100\n",
      "8/8 [==============================] - 9s 1s/step - loss: 0.4247 - accuracy: 0.8083 - val_loss: 1.3022 - val_accuracy: 0.7434\n",
      "Epoch 5/100\n",
      "8/8 [==============================] - 9s 1s/step - loss: 0.7670 - accuracy: 0.7740 - val_loss: 1.9350 - val_accuracy: 0.3289\n",
      "Epoch 6/100\n",
      "8/8 [==============================] - 9s 1s/step - loss: 1.2480 - accuracy: 0.6781 - val_loss: 1.0063 - val_accuracy: 0.8158\n",
      "Epoch 7/100\n",
      "8/8 [==============================] - 9s 1s/step - loss: 0.6955 - accuracy: 0.7437 - val_loss: 0.5743 - val_accuracy: 0.8553\n",
      "Epoch 8/100\n",
      "5/8 [=================>............] - ETA: 2s - loss: 0.8543 - accuracy: 0.7383"
     ]
    },
    {
     "ename": "KeyboardInterrupt",
     "evalue": "",
     "output_type": "error",
     "traceback": [
      "\u001b[0;31m---------------------------------------------------------------------------\u001b[0m",
      "\u001b[0;31mKeyboardInterrupt\u001b[0m                         Traceback (most recent call last)",
      "\u001b[1;32m/home/sara/Desktop/Master-thesis/master_thesis/Binary/train.ipynb Cell 4'\u001b[0m in \u001b[0;36m<module>\u001b[0;34m\u001b[0m\n\u001b[1;32m      <a href='vscode-notebook-cell:/home/sara/Desktop/Master-thesis/master_thesis/Binary/train.ipynb#ch0000002?line=0'>1</a>\u001b[0m \u001b[39mfrom\u001b[39;00m \u001b[39mPIL\u001b[39;00m \u001b[39mimport\u001b[39;00m ImageFile\n\u001b[1;32m      <a href='vscode-notebook-cell:/home/sara/Desktop/Master-thesis/master_thesis/Binary/train.ipynb#ch0000002?line=1'>2</a>\u001b[0m ImageFile\u001b[39m.\u001b[39mLOAD_TRUNCATED_IMAGES \u001b[39m=\u001b[39m \u001b[39mTrue\u001b[39;00m\n\u001b[0;32m----> <a href='vscode-notebook-cell:/home/sara/Desktop/Master-thesis/master_thesis/Binary/train.ipynb#ch0000002?line=5'>6</a>\u001b[0m history \u001b[39m=\u001b[39m model\u001b[39m.\u001b[39;49mfit(train_generator,\n\u001b[1;32m      <a href='vscode-notebook-cell:/home/sara/Desktop/Master-thesis/master_thesis/Binary/train.ipynb#ch0000002?line=6'>7</a>\u001b[0m       steps_per_epoch\u001b[39m=\u001b[39;49m\u001b[39m8\u001b[39;49m,  \n\u001b[1;32m      <a href='vscode-notebook-cell:/home/sara/Desktop/Master-thesis/master_thesis/Binary/train.ipynb#ch0000002?line=7'>8</a>\u001b[0m       epochs\u001b[39m=\u001b[39;49m\u001b[39m100\u001b[39;49m,\n\u001b[1;32m      <a href='vscode-notebook-cell:/home/sara/Desktop/Master-thesis/master_thesis/Binary/train.ipynb#ch0000002?line=8'>9</a>\u001b[0m       verbose\u001b[39m=\u001b[39;49m\u001b[39m1\u001b[39;49m,\n\u001b[1;32m     <a href='vscode-notebook-cell:/home/sara/Desktop/Master-thesis/master_thesis/Binary/train.ipynb#ch0000002?line=9'>10</a>\u001b[0m       batch_size\u001b[39m=\u001b[39;49mbatch_size,\n\u001b[1;32m     <a href='vscode-notebook-cell:/home/sara/Desktop/Master-thesis/master_thesis/Binary/train.ipynb#ch0000002?line=10'>11</a>\u001b[0m       validation_data \u001b[39m=\u001b[39;49m validation_generator,\n\u001b[1;32m     <a href='vscode-notebook-cell:/home/sara/Desktop/Master-thesis/master_thesis/Binary/train.ipynb#ch0000002?line=11'>12</a>\u001b[0m       validation_steps\u001b[39m=\u001b[39;49m\u001b[39m8\u001b[39;49m)\n",
      "File \u001b[0;32m~/anaconda3/envs/binary/lib/python3.10/site-packages/keras/utils/traceback_utils.py:64\u001b[0m, in \u001b[0;36mfilter_traceback.<locals>.error_handler\u001b[0;34m(*args, **kwargs)\u001b[0m\n\u001b[1;32m     <a href='file:///~/anaconda3/envs/binary/lib/python3.10/site-packages/keras/utils/traceback_utils.py?line=61'>62</a>\u001b[0m filtered_tb \u001b[39m=\u001b[39m \u001b[39mNone\u001b[39;00m\n\u001b[1;32m     <a href='file:///~/anaconda3/envs/binary/lib/python3.10/site-packages/keras/utils/traceback_utils.py?line=62'>63</a>\u001b[0m \u001b[39mtry\u001b[39;00m:\n\u001b[0;32m---> <a href='file:///~/anaconda3/envs/binary/lib/python3.10/site-packages/keras/utils/traceback_utils.py?line=63'>64</a>\u001b[0m   \u001b[39mreturn\u001b[39;00m fn(\u001b[39m*\u001b[39;49margs, \u001b[39m*\u001b[39;49m\u001b[39m*\u001b[39;49mkwargs)\n\u001b[1;32m     <a href='file:///~/anaconda3/envs/binary/lib/python3.10/site-packages/keras/utils/traceback_utils.py?line=64'>65</a>\u001b[0m \u001b[39mexcept\u001b[39;00m \u001b[39mException\u001b[39;00m \u001b[39mas\u001b[39;00m e:  \u001b[39m# pylint: disable=broad-except\u001b[39;00m\n\u001b[1;32m     <a href='file:///~/anaconda3/envs/binary/lib/python3.10/site-packages/keras/utils/traceback_utils.py?line=65'>66</a>\u001b[0m   filtered_tb \u001b[39m=\u001b[39m _process_traceback_frames(e\u001b[39m.\u001b[39m__traceback__)\n",
      "File \u001b[0;32m~/anaconda3/envs/binary/lib/python3.10/site-packages/keras/engine/training.py:1216\u001b[0m, in \u001b[0;36mModel.fit\u001b[0;34m(self, x, y, batch_size, epochs, verbose, callbacks, validation_split, validation_data, shuffle, class_weight, sample_weight, initial_epoch, steps_per_epoch, validation_steps, validation_batch_size, validation_freq, max_queue_size, workers, use_multiprocessing)\u001b[0m\n\u001b[1;32m   <a href='file:///~/anaconda3/envs/binary/lib/python3.10/site-packages/keras/engine/training.py?line=1208'>1209</a>\u001b[0m \u001b[39mwith\u001b[39;00m tf\u001b[39m.\u001b[39mprofiler\u001b[39m.\u001b[39mexperimental\u001b[39m.\u001b[39mTrace(\n\u001b[1;32m   <a href='file:///~/anaconda3/envs/binary/lib/python3.10/site-packages/keras/engine/training.py?line=1209'>1210</a>\u001b[0m     \u001b[39m'\u001b[39m\u001b[39mtrain\u001b[39m\u001b[39m'\u001b[39m,\n\u001b[1;32m   <a href='file:///~/anaconda3/envs/binary/lib/python3.10/site-packages/keras/engine/training.py?line=1210'>1211</a>\u001b[0m     epoch_num\u001b[39m=\u001b[39mepoch,\n\u001b[1;32m   <a href='file:///~/anaconda3/envs/binary/lib/python3.10/site-packages/keras/engine/training.py?line=1211'>1212</a>\u001b[0m     step_num\u001b[39m=\u001b[39mstep,\n\u001b[1;32m   <a href='file:///~/anaconda3/envs/binary/lib/python3.10/site-packages/keras/engine/training.py?line=1212'>1213</a>\u001b[0m     batch_size\u001b[39m=\u001b[39mbatch_size,\n\u001b[1;32m   <a href='file:///~/anaconda3/envs/binary/lib/python3.10/site-packages/keras/engine/training.py?line=1213'>1214</a>\u001b[0m     _r\u001b[39m=\u001b[39m\u001b[39m1\u001b[39m):\n\u001b[1;32m   <a href='file:///~/anaconda3/envs/binary/lib/python3.10/site-packages/keras/engine/training.py?line=1214'>1215</a>\u001b[0m   callbacks\u001b[39m.\u001b[39mon_train_batch_begin(step)\n\u001b[0;32m-> <a href='file:///~/anaconda3/envs/binary/lib/python3.10/site-packages/keras/engine/training.py?line=1215'>1216</a>\u001b[0m   tmp_logs \u001b[39m=\u001b[39m \u001b[39mself\u001b[39;49m\u001b[39m.\u001b[39;49mtrain_function(iterator)\n\u001b[1;32m   <a href='file:///~/anaconda3/envs/binary/lib/python3.10/site-packages/keras/engine/training.py?line=1216'>1217</a>\u001b[0m   \u001b[39mif\u001b[39;00m data_handler\u001b[39m.\u001b[39mshould_sync:\n\u001b[1;32m   <a href='file:///~/anaconda3/envs/binary/lib/python3.10/site-packages/keras/engine/training.py?line=1217'>1218</a>\u001b[0m     context\u001b[39m.\u001b[39masync_wait()\n",
      "File \u001b[0;32m~/anaconda3/envs/binary/lib/python3.10/site-packages/tensorflow/python/util/traceback_utils.py:150\u001b[0m, in \u001b[0;36mfilter_traceback.<locals>.error_handler\u001b[0;34m(*args, **kwargs)\u001b[0m\n\u001b[1;32m    <a href='file:///~/anaconda3/envs/binary/lib/python3.10/site-packages/tensorflow/python/util/traceback_utils.py?line=147'>148</a>\u001b[0m filtered_tb \u001b[39m=\u001b[39m \u001b[39mNone\u001b[39;00m\n\u001b[1;32m    <a href='file:///~/anaconda3/envs/binary/lib/python3.10/site-packages/tensorflow/python/util/traceback_utils.py?line=148'>149</a>\u001b[0m \u001b[39mtry\u001b[39;00m:\n\u001b[0;32m--> <a href='file:///~/anaconda3/envs/binary/lib/python3.10/site-packages/tensorflow/python/util/traceback_utils.py?line=149'>150</a>\u001b[0m   \u001b[39mreturn\u001b[39;00m fn(\u001b[39m*\u001b[39;49margs, \u001b[39m*\u001b[39;49m\u001b[39m*\u001b[39;49mkwargs)\n\u001b[1;32m    <a href='file:///~/anaconda3/envs/binary/lib/python3.10/site-packages/tensorflow/python/util/traceback_utils.py?line=150'>151</a>\u001b[0m \u001b[39mexcept\u001b[39;00m \u001b[39mException\u001b[39;00m \u001b[39mas\u001b[39;00m e:\n\u001b[1;32m    <a href='file:///~/anaconda3/envs/binary/lib/python3.10/site-packages/tensorflow/python/util/traceback_utils.py?line=151'>152</a>\u001b[0m   filtered_tb \u001b[39m=\u001b[39m _process_traceback_frames(e\u001b[39m.\u001b[39m__traceback__)\n",
      "File \u001b[0;32m~/anaconda3/envs/binary/lib/python3.10/site-packages/tensorflow/python/eager/def_function.py:910\u001b[0m, in \u001b[0;36mFunction.__call__\u001b[0;34m(self, *args, **kwds)\u001b[0m\n\u001b[1;32m    <a href='file:///~/anaconda3/envs/binary/lib/python3.10/site-packages/tensorflow/python/eager/def_function.py?line=906'>907</a>\u001b[0m compiler \u001b[39m=\u001b[39m \u001b[39m\"\u001b[39m\u001b[39mxla\u001b[39m\u001b[39m\"\u001b[39m \u001b[39mif\u001b[39;00m \u001b[39mself\u001b[39m\u001b[39m.\u001b[39m_jit_compile \u001b[39melse\u001b[39;00m \u001b[39m\"\u001b[39m\u001b[39mnonXla\u001b[39m\u001b[39m\"\u001b[39m\n\u001b[1;32m    <a href='file:///~/anaconda3/envs/binary/lib/python3.10/site-packages/tensorflow/python/eager/def_function.py?line=908'>909</a>\u001b[0m \u001b[39mwith\u001b[39;00m OptionalXlaContext(\u001b[39mself\u001b[39m\u001b[39m.\u001b[39m_jit_compile):\n\u001b[0;32m--> <a href='file:///~/anaconda3/envs/binary/lib/python3.10/site-packages/tensorflow/python/eager/def_function.py?line=909'>910</a>\u001b[0m   result \u001b[39m=\u001b[39m \u001b[39mself\u001b[39;49m\u001b[39m.\u001b[39;49m_call(\u001b[39m*\u001b[39;49margs, \u001b[39m*\u001b[39;49m\u001b[39m*\u001b[39;49mkwds)\n\u001b[1;32m    <a href='file:///~/anaconda3/envs/binary/lib/python3.10/site-packages/tensorflow/python/eager/def_function.py?line=911'>912</a>\u001b[0m new_tracing_count \u001b[39m=\u001b[39m \u001b[39mself\u001b[39m\u001b[39m.\u001b[39mexperimental_get_tracing_count()\n\u001b[1;32m    <a href='file:///~/anaconda3/envs/binary/lib/python3.10/site-packages/tensorflow/python/eager/def_function.py?line=912'>913</a>\u001b[0m without_tracing \u001b[39m=\u001b[39m (tracing_count \u001b[39m==\u001b[39m new_tracing_count)\n",
      "File \u001b[0;32m~/anaconda3/envs/binary/lib/python3.10/site-packages/tensorflow/python/eager/def_function.py:942\u001b[0m, in \u001b[0;36mFunction._call\u001b[0;34m(self, *args, **kwds)\u001b[0m\n\u001b[1;32m    <a href='file:///~/anaconda3/envs/binary/lib/python3.10/site-packages/tensorflow/python/eager/def_function.py?line=938'>939</a>\u001b[0m   \u001b[39mself\u001b[39m\u001b[39m.\u001b[39m_lock\u001b[39m.\u001b[39mrelease()\n\u001b[1;32m    <a href='file:///~/anaconda3/envs/binary/lib/python3.10/site-packages/tensorflow/python/eager/def_function.py?line=939'>940</a>\u001b[0m   \u001b[39m# In this case we have created variables on the first call, so we run the\u001b[39;00m\n\u001b[1;32m    <a href='file:///~/anaconda3/envs/binary/lib/python3.10/site-packages/tensorflow/python/eager/def_function.py?line=940'>941</a>\u001b[0m   \u001b[39m# defunned version which is guaranteed to never create variables.\u001b[39;00m\n\u001b[0;32m--> <a href='file:///~/anaconda3/envs/binary/lib/python3.10/site-packages/tensorflow/python/eager/def_function.py?line=941'>942</a>\u001b[0m   \u001b[39mreturn\u001b[39;00m \u001b[39mself\u001b[39;49m\u001b[39m.\u001b[39;49m_stateless_fn(\u001b[39m*\u001b[39;49margs, \u001b[39m*\u001b[39;49m\u001b[39m*\u001b[39;49mkwds)  \u001b[39m# pylint: disable=not-callable\u001b[39;00m\n\u001b[1;32m    <a href='file:///~/anaconda3/envs/binary/lib/python3.10/site-packages/tensorflow/python/eager/def_function.py?line=942'>943</a>\u001b[0m \u001b[39melif\u001b[39;00m \u001b[39mself\u001b[39m\u001b[39m.\u001b[39m_stateful_fn \u001b[39mis\u001b[39;00m \u001b[39mnot\u001b[39;00m \u001b[39mNone\u001b[39;00m:\n\u001b[1;32m    <a href='file:///~/anaconda3/envs/binary/lib/python3.10/site-packages/tensorflow/python/eager/def_function.py?line=943'>944</a>\u001b[0m   \u001b[39m# Release the lock early so that multiple threads can perform the call\u001b[39;00m\n\u001b[1;32m    <a href='file:///~/anaconda3/envs/binary/lib/python3.10/site-packages/tensorflow/python/eager/def_function.py?line=944'>945</a>\u001b[0m   \u001b[39m# in parallel.\u001b[39;00m\n\u001b[1;32m    <a href='file:///~/anaconda3/envs/binary/lib/python3.10/site-packages/tensorflow/python/eager/def_function.py?line=945'>946</a>\u001b[0m   \u001b[39mself\u001b[39m\u001b[39m.\u001b[39m_lock\u001b[39m.\u001b[39mrelease()\n",
      "File \u001b[0;32m~/anaconda3/envs/binary/lib/python3.10/site-packages/tensorflow/python/eager/function.py:3130\u001b[0m, in \u001b[0;36mFunction.__call__\u001b[0;34m(self, *args, **kwargs)\u001b[0m\n\u001b[1;32m   <a href='file:///~/anaconda3/envs/binary/lib/python3.10/site-packages/tensorflow/python/eager/function.py?line=3126'>3127</a>\u001b[0m \u001b[39mwith\u001b[39;00m \u001b[39mself\u001b[39m\u001b[39m.\u001b[39m_lock:\n\u001b[1;32m   <a href='file:///~/anaconda3/envs/binary/lib/python3.10/site-packages/tensorflow/python/eager/function.py?line=3127'>3128</a>\u001b[0m   (graph_function,\n\u001b[1;32m   <a href='file:///~/anaconda3/envs/binary/lib/python3.10/site-packages/tensorflow/python/eager/function.py?line=3128'>3129</a>\u001b[0m    filtered_flat_args) \u001b[39m=\u001b[39m \u001b[39mself\u001b[39m\u001b[39m.\u001b[39m_maybe_define_function(args, kwargs)\n\u001b[0;32m-> <a href='file:///~/anaconda3/envs/binary/lib/python3.10/site-packages/tensorflow/python/eager/function.py?line=3129'>3130</a>\u001b[0m \u001b[39mreturn\u001b[39;00m graph_function\u001b[39m.\u001b[39;49m_call_flat(\n\u001b[1;32m   <a href='file:///~/anaconda3/envs/binary/lib/python3.10/site-packages/tensorflow/python/eager/function.py?line=3130'>3131</a>\u001b[0m     filtered_flat_args, captured_inputs\u001b[39m=\u001b[39;49mgraph_function\u001b[39m.\u001b[39;49mcaptured_inputs)\n",
      "File \u001b[0;32m~/anaconda3/envs/binary/lib/python3.10/site-packages/tensorflow/python/eager/function.py:1959\u001b[0m, in \u001b[0;36mConcreteFunction._call_flat\u001b[0;34m(self, args, captured_inputs, cancellation_manager)\u001b[0m\n\u001b[1;32m   <a href='file:///~/anaconda3/envs/binary/lib/python3.10/site-packages/tensorflow/python/eager/function.py?line=1954'>1955</a>\u001b[0m possible_gradient_type \u001b[39m=\u001b[39m gradients_util\u001b[39m.\u001b[39mPossibleTapeGradientTypes(args)\n\u001b[1;32m   <a href='file:///~/anaconda3/envs/binary/lib/python3.10/site-packages/tensorflow/python/eager/function.py?line=1955'>1956</a>\u001b[0m \u001b[39mif\u001b[39;00m (possible_gradient_type \u001b[39m==\u001b[39m gradients_util\u001b[39m.\u001b[39mPOSSIBLE_GRADIENT_TYPES_NONE\n\u001b[1;32m   <a href='file:///~/anaconda3/envs/binary/lib/python3.10/site-packages/tensorflow/python/eager/function.py?line=1956'>1957</a>\u001b[0m     \u001b[39mand\u001b[39;00m executing_eagerly):\n\u001b[1;32m   <a href='file:///~/anaconda3/envs/binary/lib/python3.10/site-packages/tensorflow/python/eager/function.py?line=1957'>1958</a>\u001b[0m   \u001b[39m# No tape is watching; skip to running the function.\u001b[39;00m\n\u001b[0;32m-> <a href='file:///~/anaconda3/envs/binary/lib/python3.10/site-packages/tensorflow/python/eager/function.py?line=1958'>1959</a>\u001b[0m   \u001b[39mreturn\u001b[39;00m \u001b[39mself\u001b[39m\u001b[39m.\u001b[39m_build_call_outputs(\u001b[39mself\u001b[39;49m\u001b[39m.\u001b[39;49m_inference_function\u001b[39m.\u001b[39;49mcall(\n\u001b[1;32m   <a href='file:///~/anaconda3/envs/binary/lib/python3.10/site-packages/tensorflow/python/eager/function.py?line=1959'>1960</a>\u001b[0m       ctx, args, cancellation_manager\u001b[39m=\u001b[39;49mcancellation_manager))\n\u001b[1;32m   <a href='file:///~/anaconda3/envs/binary/lib/python3.10/site-packages/tensorflow/python/eager/function.py?line=1960'>1961</a>\u001b[0m forward_backward \u001b[39m=\u001b[39m \u001b[39mself\u001b[39m\u001b[39m.\u001b[39m_select_forward_and_backward_functions(\n\u001b[1;32m   <a href='file:///~/anaconda3/envs/binary/lib/python3.10/site-packages/tensorflow/python/eager/function.py?line=1961'>1962</a>\u001b[0m     args,\n\u001b[1;32m   <a href='file:///~/anaconda3/envs/binary/lib/python3.10/site-packages/tensorflow/python/eager/function.py?line=1962'>1963</a>\u001b[0m     possible_gradient_type,\n\u001b[1;32m   <a href='file:///~/anaconda3/envs/binary/lib/python3.10/site-packages/tensorflow/python/eager/function.py?line=1963'>1964</a>\u001b[0m     executing_eagerly)\n\u001b[1;32m   <a href='file:///~/anaconda3/envs/binary/lib/python3.10/site-packages/tensorflow/python/eager/function.py?line=1964'>1965</a>\u001b[0m forward_function, args_with_tangents \u001b[39m=\u001b[39m forward_backward\u001b[39m.\u001b[39mforward()\n",
      "File \u001b[0;32m~/anaconda3/envs/binary/lib/python3.10/site-packages/tensorflow/python/eager/function.py:598\u001b[0m, in \u001b[0;36m_EagerDefinedFunction.call\u001b[0;34m(self, ctx, args, cancellation_manager)\u001b[0m\n\u001b[1;32m    <a href='file:///~/anaconda3/envs/binary/lib/python3.10/site-packages/tensorflow/python/eager/function.py?line=595'>596</a>\u001b[0m \u001b[39mwith\u001b[39;00m _InterpolateFunctionError(\u001b[39mself\u001b[39m):\n\u001b[1;32m    <a href='file:///~/anaconda3/envs/binary/lib/python3.10/site-packages/tensorflow/python/eager/function.py?line=596'>597</a>\u001b[0m   \u001b[39mif\u001b[39;00m cancellation_manager \u001b[39mis\u001b[39;00m \u001b[39mNone\u001b[39;00m:\n\u001b[0;32m--> <a href='file:///~/anaconda3/envs/binary/lib/python3.10/site-packages/tensorflow/python/eager/function.py?line=597'>598</a>\u001b[0m     outputs \u001b[39m=\u001b[39m execute\u001b[39m.\u001b[39;49mexecute(\n\u001b[1;32m    <a href='file:///~/anaconda3/envs/binary/lib/python3.10/site-packages/tensorflow/python/eager/function.py?line=598'>599</a>\u001b[0m         \u001b[39mstr\u001b[39;49m(\u001b[39mself\u001b[39;49m\u001b[39m.\u001b[39;49msignature\u001b[39m.\u001b[39;49mname),\n\u001b[1;32m    <a href='file:///~/anaconda3/envs/binary/lib/python3.10/site-packages/tensorflow/python/eager/function.py?line=599'>600</a>\u001b[0m         num_outputs\u001b[39m=\u001b[39;49m\u001b[39mself\u001b[39;49m\u001b[39m.\u001b[39;49m_num_outputs,\n\u001b[1;32m    <a href='file:///~/anaconda3/envs/binary/lib/python3.10/site-packages/tensorflow/python/eager/function.py?line=600'>601</a>\u001b[0m         inputs\u001b[39m=\u001b[39;49margs,\n\u001b[1;32m    <a href='file:///~/anaconda3/envs/binary/lib/python3.10/site-packages/tensorflow/python/eager/function.py?line=601'>602</a>\u001b[0m         attrs\u001b[39m=\u001b[39;49mattrs,\n\u001b[1;32m    <a href='file:///~/anaconda3/envs/binary/lib/python3.10/site-packages/tensorflow/python/eager/function.py?line=602'>603</a>\u001b[0m         ctx\u001b[39m=\u001b[39;49mctx)\n\u001b[1;32m    <a href='file:///~/anaconda3/envs/binary/lib/python3.10/site-packages/tensorflow/python/eager/function.py?line=603'>604</a>\u001b[0m   \u001b[39melse\u001b[39;00m:\n\u001b[1;32m    <a href='file:///~/anaconda3/envs/binary/lib/python3.10/site-packages/tensorflow/python/eager/function.py?line=604'>605</a>\u001b[0m     outputs \u001b[39m=\u001b[39m execute\u001b[39m.\u001b[39mexecute_with_cancellation(\n\u001b[1;32m    <a href='file:///~/anaconda3/envs/binary/lib/python3.10/site-packages/tensorflow/python/eager/function.py?line=605'>606</a>\u001b[0m         \u001b[39mstr\u001b[39m(\u001b[39mself\u001b[39m\u001b[39m.\u001b[39msignature\u001b[39m.\u001b[39mname),\n\u001b[1;32m    <a href='file:///~/anaconda3/envs/binary/lib/python3.10/site-packages/tensorflow/python/eager/function.py?line=606'>607</a>\u001b[0m         num_outputs\u001b[39m=\u001b[39m\u001b[39mself\u001b[39m\u001b[39m.\u001b[39m_num_outputs,\n\u001b[0;32m   (...)\u001b[0m\n\u001b[1;32m    <a href='file:///~/anaconda3/envs/binary/lib/python3.10/site-packages/tensorflow/python/eager/function.py?line=609'>610</a>\u001b[0m         ctx\u001b[39m=\u001b[39mctx,\n\u001b[1;32m    <a href='file:///~/anaconda3/envs/binary/lib/python3.10/site-packages/tensorflow/python/eager/function.py?line=610'>611</a>\u001b[0m         cancellation_manager\u001b[39m=\u001b[39mcancellation_manager)\n",
      "File \u001b[0;32m~/anaconda3/envs/binary/lib/python3.10/site-packages/tensorflow/python/eager/execute.py:58\u001b[0m, in \u001b[0;36mquick_execute\u001b[0;34m(op_name, num_outputs, inputs, attrs, ctx, name)\u001b[0m\n\u001b[1;32m     <a href='file:///~/anaconda3/envs/binary/lib/python3.10/site-packages/tensorflow/python/eager/execute.py?line=55'>56</a>\u001b[0m \u001b[39mtry\u001b[39;00m:\n\u001b[1;32m     <a href='file:///~/anaconda3/envs/binary/lib/python3.10/site-packages/tensorflow/python/eager/execute.py?line=56'>57</a>\u001b[0m   ctx\u001b[39m.\u001b[39mensure_initialized()\n\u001b[0;32m---> <a href='file:///~/anaconda3/envs/binary/lib/python3.10/site-packages/tensorflow/python/eager/execute.py?line=57'>58</a>\u001b[0m   tensors \u001b[39m=\u001b[39m pywrap_tfe\u001b[39m.\u001b[39;49mTFE_Py_Execute(ctx\u001b[39m.\u001b[39;49m_handle, device_name, op_name,\n\u001b[1;32m     <a href='file:///~/anaconda3/envs/binary/lib/python3.10/site-packages/tensorflow/python/eager/execute.py?line=58'>59</a>\u001b[0m                                       inputs, attrs, num_outputs)\n\u001b[1;32m     <a href='file:///~/anaconda3/envs/binary/lib/python3.10/site-packages/tensorflow/python/eager/execute.py?line=59'>60</a>\u001b[0m \u001b[39mexcept\u001b[39;00m core\u001b[39m.\u001b[39m_NotOkStatusException \u001b[39mas\u001b[39;00m e:\n\u001b[1;32m     <a href='file:///~/anaconda3/envs/binary/lib/python3.10/site-packages/tensorflow/python/eager/execute.py?line=60'>61</a>\u001b[0m   \u001b[39mif\u001b[39;00m name \u001b[39mis\u001b[39;00m \u001b[39mnot\u001b[39;00m \u001b[39mNone\u001b[39;00m:\n",
      "\u001b[0;31mKeyboardInterrupt\u001b[0m: "
     ]
    }
   ],
   "source": [
    "from PIL import ImageFile\n",
    "ImageFile.LOAD_TRUNCATED_IMAGES = True\n",
    "\n",
    "\n",
    "\n",
    "history = model.fit(train_generator,\n",
    "      steps_per_epoch=8,  \n",
    "      epochs=100,\n",
    "      verbose=1,\n",
    "      batch_size=batch_size,\n",
    "      validation_data = validation_generator,\n",
    "      validation_steps=8)"
   ]
  },
  {
   "cell_type": "code",
   "execution_count": 18,
   "metadata": {},
   "outputs": [
    {
     "data": {
      "text/plain": [
       "<tensorflow.python.training.tracking.util.CheckpointLoadStatus at 0x7f6dff76e530>"
      ]
     },
     "execution_count": 18,
     "metadata": {},
     "output_type": "execute_result"
    }
   ],
   "source": [
    "latest = tf.train.latest_checkpoint(checkpoint_dir)\n",
    "# Create a new model instance\n",
    "model = create_model()\n",
    "\n",
    "# Load the previously saved weights\n",
    "model.load_weights(latest)"
   ]
  },
  {
   "cell_type": "code",
   "execution_count": 21,
   "metadata": {},
   "outputs": [
    {
     "name": "stdout",
     "output_type": "stream",
     "text": [
      "[1.]\n",
      "fdd2ef51e.jpg does not have a boat\n",
      "[0.]\n",
      "fdc773c96.jpg have a boat\n",
      "[0.]\n",
      "fde26a6e0.jpg have a boat\n",
      "[0.]\n",
      "fdca53dc2.jpg have a boat\n",
      "[1.]\n",
      "fdcb83231.jpg does not have a boat\n",
      "[1.]\n",
      "fdcbcc704.jpg does not have a boat\n",
      "[1.]\n",
      "fdd1be404.jpg does not have a boat\n",
      "[0.]\n",
      "fdc3d0c7e.jpg have a boat\n",
      "[1.]\n",
      "fdbf2b2ac.jpg does not have a boat\n",
      "[0.]\n",
      "fddefaa7b.jpg have a boat\n",
      "[0.]\n",
      "fdc4b0c62.jpg have a boat\n",
      "[1.]\n",
      "fdd4706f9.jpg does not have a boat\n",
      "[0.]\n",
      "fdc913c2b.jpg have a boat\n",
      "[0.]\n",
      "fdd0268c0.jpg have a boat\n",
      "[0.]\n",
      "fdd866b18.jpg have a boat\n",
      "[1.]\n",
      "fde1ef107.jpg does not have a boat\n"
     ]
    }
   ],
   "source": [
    "%matplotlib inline\n",
    "import matplotlib.pyplot as plt\n",
    "import numpy as np\n",
    "from keras.preprocessing import image\n",
    "import os\n",
    "import cv2 as cv\n",
    "\n",
    "\n",
    "arr = os.listdir(\"/home/sara/Desktop/Master-thesis/master_thesis/Dataset/images\")\n",
    "\n",
    "'''\n",
    "# predicting images\n",
    "fn = arr[7]\n",
    "path = os.path.join(\"/home/sara/Desktop/Master-thesis/master_thesis/Dataset/images\", fn)\n",
    "img = image.load_img(path, target_size=(200, 200))\n",
    "x = image.img_to_array(img)\n",
    "plt.imshow(x/255.)\n",
    "x = np.expand_dims(x, axis=0)\n",
    "images = np.vstack([x])\n",
    "classes = model.predict(images, batch_size=10)\n",
    "print(classes[0])\n",
    "if classes[0]<0.5:\n",
    "  print(fn + \" have a boat\")\n",
    "else:\n",
    "  print(fn + \" does not have a boat\")\n",
    "'''\n",
    "\n",
    "for fn in arr:\n",
    "    path = os.path.join(\"/home/sara/Desktop/Master-thesis/master_thesis/Dataset/images\", fn)\n",
    "    im = image.load_img(path, target_size=(200, 200))\n",
    "    x_show = image.img_to_array(im)\n",
    "\n",
    "    x = np.expand_dims(x_show, axis=0)\n",
    "    images = np.vstack([x])\n",
    "    classes = model.predict(images, batch_size=10)\n",
    "\n",
    "    print(classes[0])\n",
    "    if classes[0]<0.5:\n",
    "      print(fn + \" have a boat\")\n",
    "    else:\n",
    "      print(fn + \" does not have a boat\")\n",
    "\n",
    "    cv.imshow('display', x_show/255.)\n",
    "    cv.waitKey(0)\n",
    "\n",
    "cv.destroyAllWindows()"
   ]
  },
  {
   "cell_type": "code",
   "execution_count": null,
   "metadata": {},
   "outputs": [],
   "source": []
  }
 ],
 "metadata": {
  "interpreter": {
   "hash": "71c467d05d2555ea358774af8a4d0975e571072be63a0e0aac45cb84a365ce63"
  },
  "kernelspec": {
   "display_name": "Python 3.10.2 ('binary')",
   "language": "python",
   "name": "python3"
  },
  "language_info": {
   "codemirror_mode": {
    "name": "ipython",
    "version": 3
   },
   "file_extension": ".py",
   "mimetype": "text/x-python",
   "name": "python",
   "nbconvert_exporter": "python",
   "pygments_lexer": "ipython3",
   "version": "3.10.2"
  },
  "orig_nbformat": 4
 },
 "nbformat": 4,
 "nbformat_minor": 2
}
