{
 "cells": [
  {
   "cell_type": "code",
   "execution_count": 1,
   "id": "fb698b44",
   "metadata": {},
   "outputs": [],
   "source": [
    "from sentinelsat import SentinelAPI, read_geojson, geojson_to_wkt\n",
    "from datetime import date\n",
    "import pandas as pd"
   ]
  },
  {
   "cell_type": "code",
   "execution_count": 12,
   "id": "19a819bd",
   "metadata": {},
   "outputs": [],
   "source": [
    "api = SentinelAPI('ebaa.asaad', 'LBC*c%7exuH+UHX', 'https://apihub.copernicus.eu/apihub')\n",
    "\n",
    "# search by polygon, time, and SciHub query keywords\n",
    "footprint = geojson_to_wkt(read_geojson('map.geojson'))\n",
    "products = api.query(footprint,\n",
    "                     date=('20151219', date(2015, 12, 29)),\n",
    "                     platformname='Sentinel-2')\n",
    "\n",
    "# convert to Pandas DataFrame\n",
    "products_df = api.to_dataframe(products)"
   ]
  },
  {
   "cell_type": "code",
   "execution_count": 13,
   "id": "b5da238d",
   "metadata": {},
   "outputs": [
    {
     "name": "stdout",
     "output_type": "stream",
     "text": [
      "Number of rows: 12\n",
      "Number of columns: 36\n"
     ]
    }
   ],
   "source": [
    "print(f\"Number of rows: {len(products_df.index)}\")\n",
    "print(f\"Number of columns: {len(products_df.columns)}\")"
   ]
  },
  {
   "cell_type": "code",
   "execution_count": 5,
   "id": "c4e96148",
   "metadata": {},
   "outputs": [
    {
     "name": "stdout",
     "output_type": "stream",
     "text": [
      "title\n",
      "link\n",
      "link_alternative\n",
      "link_icon\n",
      "summary\n",
      "ondemand\n",
      "datatakesensingstart\n",
      "beginposition\n",
      "endposition\n",
      "ingestiondate\n",
      "orbitnumber\n",
      "relativeorbitnumber\n",
      "cloudcoverpercentage\n",
      "gmlfootprint\n",
      "format\n",
      "instrumentshortname\n",
      "sensoroperationalmode\n",
      "instrumentname\n",
      "footprint\n",
      "s2datatakeid\n",
      "platformidentifier\n",
      "orbitdirection\n",
      "platformserialidentifier\n",
      "processingbaseline\n",
      "processinglevel\n",
      "producttype\n",
      "platformname\n",
      "size\n",
      "tileid\n",
      "hv_order_tileid\n",
      "filename\n",
      "identifier\n",
      "uuid\n",
      "level1cpdiidentifier\n",
      "granuleidentifier\n",
      "datastripidentifier\n"
     ]
    }
   ],
   "source": [
    "for col in products_df.columns:\n",
    "    print(col)"
   ]
  },
  {
   "cell_type": "code",
   "execution_count": 6,
   "id": "6a40f8ce",
   "metadata": {},
   "outputs": [
    {
     "name": "stdout",
     "output_type": "stream",
     "text": [
      "b6bb141e-5833-4b74-823d-60076558d5a3    S2A_MSIL1C_20151224T102432_N0201_R065_T33VUD_2...\n",
      "aefe7b48-e9a7-46ce-bd2b-5ac3e329e46e    S2A_MSIL1C_20151224T102432_N0201_R065_T32VPH_2...\n",
      "0d747b08-61dc-452e-af68-f437966145e2    S2A_MSIL1C_20151224T102432_N0201_R065_T33VUC_2...\n",
      "5da41fea-6189-4971-b87d-a38c2bdd5173    S2A_MSIL1C_20151224T102432_N0201_R065_T32VPJ_2...\n",
      "216d807a-e949-49e4-b64d-a867e4b7c07d    S2A_MSIL1C_20151223T105452_N0201_R051_T32VNJ_2...\n",
      "6d33f078-b24e-4c8f-a8d6-b667f96ce9d5    S2A_MSIL1C_20151223T105452_N0201_R051_T32VNH_2...\n",
      "8463351f-f40d-41c8-80e8-b94ef913d3df    S2A_MSIL1C_20151227T103442_N0201_R108_T33VUC_2...\n",
      "d1e9b871-80ef-4fa1-945a-4c7e3adafade    S2A_MSIL1C_20151227T103442_N0201_R108_T32VNH_2...\n",
      "ee049fef-a106-4da7-b82a-e42ac318aabc    S2A_MSIL1C_20151227T103442_N0201_R108_T32VPH_2...\n",
      "e9233c38-bd8e-4995-ab98-a02027b0962c    S2A_MSIL1C_20151227T103442_N0201_R108_T32VNJ_2...\n",
      "bbd9cec4-1518-4cb8-aa7f-5e830e070410    S2A_MSIL1C_20151227T103442_N0201_R108_T33VUD_2...\n",
      "1059291e-78ba-49fa-9b43-0fddfd2c9c26    S2A_MSIL1C_20151227T103442_N0201_R108_T32VPJ_2...\n",
      "Name: identifier, dtype: object\n"
     ]
    }
   ],
   "source": [
    "print(products_df[\"identifier\"])"
   ]
  },
  {
   "cell_type": "code",
   "execution_count": 14,
   "id": "f6e17f96",
   "metadata": {},
   "outputs": [],
   "source": [
    "products_df_sorted = products_df.sort_values(['ingestiondate'], ascending=[False])\n",
    "# products_df_sorted = products_df_sorted[products_df_sorted['platformname'] == 'Sentinel-2']"
   ]
  },
  {
   "cell_type": "code",
   "execution_count": 15,
   "id": "e3ab0c1d",
   "metadata": {},
   "outputs": [
    {
     "data": {
      "text/plain": [
       "b6bb141e-5833-4b74-823d-60076558d5a3   2019-01-10 01:43:52.725\n",
       "aefe7b48-e9a7-46ce-bd2b-5ac3e329e46e   2019-01-10 01:41:01.283\n",
       "0d747b08-61dc-452e-af68-f437966145e2   2019-01-10 01:11:44.251\n",
       "5da41fea-6189-4971-b87d-a38c2bdd5173   2019-01-10 00:56:19.907\n",
       "216d807a-e949-49e4-b64d-a867e4b7c07d   2019-01-09 23:36:00.938\n",
       "6d33f078-b24e-4c8f-a8d6-b667f96ce9d5   2019-01-09 23:18:38.998\n",
       "8463351f-f40d-41c8-80e8-b94ef913d3df   2018-12-20 02:19:57.549\n",
       "d1e9b871-80ef-4fa1-945a-4c7e3adafade   2018-12-20 02:19:54.688\n",
       "ee049fef-a106-4da7-b82a-e42ac318aabc   2018-12-20 02:02:48.588\n",
       "e9233c38-bd8e-4995-ab98-a02027b0962c   2018-12-20 01:53:15.680\n",
       "bbd9cec4-1518-4cb8-aa7f-5e830e070410   2018-12-20 01:51:40.047\n",
       "1059291e-78ba-49fa-9b43-0fddfd2c9c26   2018-12-20 01:46:25.495\n",
       "Name: ingestiondate, dtype: datetime64[ns]"
      ]
     },
     "execution_count": 15,
     "metadata": {},
     "output_type": "execute_result"
    }
   ],
   "source": [
    "products_df_sorted[\"ingestiondate\"]"
   ]
  },
  {
   "cell_type": "code",
   "execution_count": 31,
   "id": "dbff9f95",
   "metadata": {},
   "outputs": [],
   "source": [
    "products_df_sorted = products_df_sorted.sort_values(['size'], ascending=[True])"
   ]
  },
  {
   "cell_type": "code",
   "execution_count": 34,
   "id": "ebac90d3",
   "metadata": {},
   "outputs": [
    {
     "data": {
      "text/plain": [
       "6d33f078-b24e-4c8f-a8d6-b667f96ce9d5    106.48 MB\n",
       "Name: size, dtype: object"
      ]
     },
     "execution_count": 34,
     "metadata": {},
     "output_type": "execute_result"
    }
   ],
   "source": [
    "products_df_sorted.head(1)[\"size\"]"
   ]
  },
  {
   "cell_type": "code",
   "execution_count": 37,
   "id": "14d5b6ee",
   "metadata": {},
   "outputs": [],
   "source": [
    "product_download = products_df_sorted.head(1)"
   ]
  },
  {
   "cell_type": "code",
   "execution_count": 38,
   "id": "f95dc32d",
   "metadata": {},
   "outputs": [
    {
     "data": {
      "text/html": [
       "<div>\n",
       "<style scoped>\n",
       "    .dataframe tbody tr th:only-of-type {\n",
       "        vertical-align: middle;\n",
       "    }\n",
       "\n",
       "    .dataframe tbody tr th {\n",
       "        vertical-align: top;\n",
       "    }\n",
       "\n",
       "    .dataframe thead th {\n",
       "        text-align: right;\n",
       "    }\n",
       "</style>\n",
       "<table border=\"1\" class=\"dataframe\">\n",
       "  <thead>\n",
       "    <tr style=\"text-align: right;\">\n",
       "      <th></th>\n",
       "      <th>title</th>\n",
       "      <th>link</th>\n",
       "      <th>link_alternative</th>\n",
       "      <th>link_icon</th>\n",
       "      <th>summary</th>\n",
       "      <th>ondemand</th>\n",
       "      <th>datatakesensingstart</th>\n",
       "      <th>beginposition</th>\n",
       "      <th>endposition</th>\n",
       "      <th>ingestiondate</th>\n",
       "      <th>...</th>\n",
       "      <th>platformname</th>\n",
       "      <th>size</th>\n",
       "      <th>tileid</th>\n",
       "      <th>hv_order_tileid</th>\n",
       "      <th>filename</th>\n",
       "      <th>identifier</th>\n",
       "      <th>uuid</th>\n",
       "      <th>level1cpdiidentifier</th>\n",
       "      <th>granuleidentifier</th>\n",
       "      <th>datastripidentifier</th>\n",
       "    </tr>\n",
       "  </thead>\n",
       "  <tbody>\n",
       "    <tr>\n",
       "      <th>6d33f078-b24e-4c8f-a8d6-b667f96ce9d5</th>\n",
       "      <td>S2A_MSIL1C_20151223T105452_N0201_R051_T32VNH_2...</td>\n",
       "      <td>https://apihub.copernicus.eu/apihub/odata/v1/P...</td>\n",
       "      <td>https://apihub.copernicus.eu/apihub/odata/v1/P...</td>\n",
       "      <td>https://apihub.copernicus.eu/apihub/odata/v1/P...</td>\n",
       "      <td>Date: 2015-12-23T10:54:52.03Z, Instrument: MSI...</td>\n",
       "      <td>false</td>\n",
       "      <td>2015-12-23 10:54:52.030</td>\n",
       "      <td>2015-12-23 10:54:52.030</td>\n",
       "      <td>2015-12-23 10:54:52.030</td>\n",
       "      <td>2019-01-09 23:18:38.998</td>\n",
       "      <td>...</td>\n",
       "      <td>Sentinel-2</td>\n",
       "      <td>106.48 MB</td>\n",
       "      <td>32VNH</td>\n",
       "      <td>VH32N</td>\n",
       "      <td>S2A_MSIL1C_20151223T105452_N0201_R051_T32VNH_2...</td>\n",
       "      <td>S2A_MSIL1C_20151223T105452_N0201_R051_T32VNH_2...</td>\n",
       "      <td>6d33f078-b24e-4c8f-a8d6-b667f96ce9d5</td>\n",
       "      <td>S2A_OPER_MSI_L1C_TL_SGS__20151223T125903_A0026...</td>\n",
       "      <td>S2A_OPER_MSI_L1C_TL_SGS__20151223T125903_A0026...</td>\n",
       "      <td>S2A_OPER_MSI_L1C_DS_SGS__20151223T125903_S2015...</td>\n",
       "    </tr>\n",
       "  </tbody>\n",
       "</table>\n",
       "<p>1 rows × 36 columns</p>\n",
       "</div>"
      ],
      "text/plain": [
       "                                                                                  title  \\\n",
       "6d33f078-b24e-4c8f-a8d6-b667f96ce9d5  S2A_MSIL1C_20151223T105452_N0201_R051_T32VNH_2...   \n",
       "\n",
       "                                                                                   link  \\\n",
       "6d33f078-b24e-4c8f-a8d6-b667f96ce9d5  https://apihub.copernicus.eu/apihub/odata/v1/P...   \n",
       "\n",
       "                                                                       link_alternative  \\\n",
       "6d33f078-b24e-4c8f-a8d6-b667f96ce9d5  https://apihub.copernicus.eu/apihub/odata/v1/P...   \n",
       "\n",
       "                                                                              link_icon  \\\n",
       "6d33f078-b24e-4c8f-a8d6-b667f96ce9d5  https://apihub.copernicus.eu/apihub/odata/v1/P...   \n",
       "\n",
       "                                                                                summary  \\\n",
       "6d33f078-b24e-4c8f-a8d6-b667f96ce9d5  Date: 2015-12-23T10:54:52.03Z, Instrument: MSI...   \n",
       "\n",
       "                                     ondemand    datatakesensingstart  \\\n",
       "6d33f078-b24e-4c8f-a8d6-b667f96ce9d5    false 2015-12-23 10:54:52.030   \n",
       "\n",
       "                                               beginposition  \\\n",
       "6d33f078-b24e-4c8f-a8d6-b667f96ce9d5 2015-12-23 10:54:52.030   \n",
       "\n",
       "                                                 endposition  \\\n",
       "6d33f078-b24e-4c8f-a8d6-b667f96ce9d5 2015-12-23 10:54:52.030   \n",
       "\n",
       "                                               ingestiondate  ...  \\\n",
       "6d33f078-b24e-4c8f-a8d6-b667f96ce9d5 2019-01-09 23:18:38.998  ...   \n",
       "\n",
       "                                      platformname       size  tileid  \\\n",
       "6d33f078-b24e-4c8f-a8d6-b667f96ce9d5    Sentinel-2  106.48 MB   32VNH   \n",
       "\n",
       "                                     hv_order_tileid  \\\n",
       "6d33f078-b24e-4c8f-a8d6-b667f96ce9d5           VH32N   \n",
       "\n",
       "                                                                               filename  \\\n",
       "6d33f078-b24e-4c8f-a8d6-b667f96ce9d5  S2A_MSIL1C_20151223T105452_N0201_R051_T32VNH_2...   \n",
       "\n",
       "                                                                             identifier  \\\n",
       "6d33f078-b24e-4c8f-a8d6-b667f96ce9d5  S2A_MSIL1C_20151223T105452_N0201_R051_T32VNH_2...   \n",
       "\n",
       "                                                                      uuid  \\\n",
       "6d33f078-b24e-4c8f-a8d6-b667f96ce9d5  6d33f078-b24e-4c8f-a8d6-b667f96ce9d5   \n",
       "\n",
       "                                                                   level1cpdiidentifier  \\\n",
       "6d33f078-b24e-4c8f-a8d6-b667f96ce9d5  S2A_OPER_MSI_L1C_TL_SGS__20151223T125903_A0026...   \n",
       "\n",
       "                                                                      granuleidentifier  \\\n",
       "6d33f078-b24e-4c8f-a8d6-b667f96ce9d5  S2A_OPER_MSI_L1C_TL_SGS__20151223T125903_A0026...   \n",
       "\n",
       "                                                                    datastripidentifier  \n",
       "6d33f078-b24e-4c8f-a8d6-b667f96ce9d5  S2A_OPER_MSI_L1C_DS_SGS__20151223T125903_S2015...  \n",
       "\n",
       "[1 rows x 36 columns]"
      ]
     },
     "execution_count": 38,
     "metadata": {},
     "output_type": "execute_result"
    }
   ],
   "source": [
    "product_download"
   ]
  },
  {
   "cell_type": "code",
   "execution_count": null,
   "id": "6df31266",
   "metadata": {},
   "outputs": [
    {
     "data": {
      "application/vnd.jupyter.widget-view+json": {
       "model_id": "a7f9de87c3d2462ab8e9a63f927c430c",
       "version_major": 2,
       "version_minor": 0
      },
      "text/plain": [
       "Downloading products:   0%|          | 0/1 [00:00<?, ?product/s]"
      ]
     },
     "metadata": {},
     "output_type": "display_data"
    },
    {
     "data": {
      "application/vnd.jupyter.widget-view+json": {
       "model_id": "9ffb2624860a4266aac4c12ec6a18799",
       "version_major": 2,
       "version_minor": 0
      },
      "text/plain": [
       "LTA retrieval:   0%|          | 0/1 [00:00<?, ?product/s]"
      ]
     },
     "metadata": {},
     "output_type": "display_data"
    }
   ],
   "source": [
    "api.download_all(product_download.index)"
   ]
  },
  {
   "cell_type": "code",
   "execution_count": null,
   "id": "8ccdc39d",
   "metadata": {},
   "outputs": [],
   "source": []
  }
 ],
 "metadata": {
  "kernelspec": {
   "display_name": "Python 3",
   "language": "python",
   "name": "python3"
  },
  "language_info": {
   "codemirror_mode": {
    "name": "ipython",
    "version": 3
   },
   "file_extension": ".py",
   "mimetype": "text/x-python",
   "name": "python",
   "nbconvert_exporter": "python",
   "pygments_lexer": "ipython3",
   "version": "3.9.4"
  }
 },
 "nbformat": 4,
 "nbformat_minor": 5
}
